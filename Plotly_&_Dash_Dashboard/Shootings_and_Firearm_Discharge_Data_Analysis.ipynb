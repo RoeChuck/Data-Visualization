{
 "cells": [
  {
   "cell_type": "code",
   "execution_count": 1,
   "metadata": {},
   "outputs": [],
   "source": [
    "import matplotlib.pyplot as plt\n",
    "import numpy as np\n",
    "import pandas as pd\n",
    "import seaborn as sns\n",
    "import plotly.graph_objects as go\n",
    "import plotly.express as px"
   ]
  },
  {
   "cell_type": "code",
   "execution_count": 2,
   "metadata": {},
   "outputs": [
    {
     "data": {
      "text/html": [
       "<div>\n",
       "<style scoped>\n",
       "    .dataframe tbody tr th:only-of-type {\n",
       "        vertical-align: middle;\n",
       "    }\n",
       "\n",
       "    .dataframe tbody tr th {\n",
       "        vertical-align: top;\n",
       "    }\n",
       "\n",
       "    .dataframe thead th {\n",
       "        text-align: right;\n",
       "    }\n",
       "</style>\n",
       "<table border=\"1\" class=\"dataframe\">\n",
       "  <thead>\n",
       "    <tr style=\"text-align: right;\">\n",
       "      <th></th>\n",
       "      <th>X</th>\n",
       "      <th>Y</th>\n",
       "      <th>Index_</th>\n",
       "      <th>Event_Unique_ID</th>\n",
       "      <th>Occurrence_Date</th>\n",
       "      <th>Occurrence_year</th>\n",
       "      <th>Month</th>\n",
       "      <th>Day_of_week</th>\n",
       "      <th>Occurrence_Hour</th>\n",
       "      <th>Time_Range</th>\n",
       "      <th>Division</th>\n",
       "      <th>Death</th>\n",
       "      <th>Injuries</th>\n",
       "      <th>Hood_ID</th>\n",
       "      <th>Neighbourhood</th>\n",
       "      <th>Longitude</th>\n",
       "      <th>Latitude</th>\n",
       "      <th>ObjectId</th>\n",
       "    </tr>\n",
       "  </thead>\n",
       "  <tbody>\n",
       "    <tr>\n",
       "      <th>0</th>\n",
       "      <td>-8.854151e+06</td>\n",
       "      <td>5.424331e+06</td>\n",
       "      <td>1</td>\n",
       "      <td>GO-2004133803</td>\n",
       "      <td>2004/01/01 05:00:00+00</td>\n",
       "      <td>2004</td>\n",
       "      <td>January</td>\n",
       "      <td>Thursday</td>\n",
       "      <td>0.0</td>\n",
       "      <td>Night</td>\n",
       "      <td>D31</td>\n",
       "      <td>0</td>\n",
       "      <td>1</td>\n",
       "      <td>23</td>\n",
       "      <td>Pelmo Park-Humberlea (23)</td>\n",
       "      <td>-79.538189</td>\n",
       "      <td>43.733748</td>\n",
       "      <td>1</td>\n",
       "    </tr>\n",
       "    <tr>\n",
       "      <th>1</th>\n",
       "      <td>0.000000e+00</td>\n",
       "      <td>0.000000e+00</td>\n",
       "      <td>2</td>\n",
       "      <td>GO-2004120070</td>\n",
       "      <td>2004/01/03 05:00:00+00</td>\n",
       "      <td>2004</td>\n",
       "      <td>January</td>\n",
       "      <td>Saturday</td>\n",
       "      <td>1.0</td>\n",
       "      <td>Night</td>\n",
       "      <td>D55</td>\n",
       "      <td>0</td>\n",
       "      <td>0</td>\n",
       "      <td>NSA</td>\n",
       "      <td>NSA</td>\n",
       "      <td>0.000000</td>\n",
       "      <td>0.000000</td>\n",
       "      <td>2</td>\n",
       "    </tr>\n",
       "    <tr>\n",
       "      <th>2</th>\n",
       "      <td>-8.838687e+06</td>\n",
       "      <td>5.412376e+06</td>\n",
       "      <td>3</td>\n",
       "      <td>GO-2004135509</td>\n",
       "      <td>2004/01/04 05:00:00+00</td>\n",
       "      <td>2004</td>\n",
       "      <td>January</td>\n",
       "      <td>Sunday</td>\n",
       "      <td>4.0</td>\n",
       "      <td>Night</td>\n",
       "      <td>D14</td>\n",
       "      <td>0</td>\n",
       "      <td>2</td>\n",
       "      <td>78</td>\n",
       "      <td>Kensington-Chinatown (78)</td>\n",
       "      <td>-79.399276</td>\n",
       "      <td>43.656102</td>\n",
       "      <td>3</td>\n",
       "    </tr>\n",
       "    <tr>\n",
       "      <th>3</th>\n",
       "      <td>-8.822736e+06</td>\n",
       "      <td>5.424197e+06</td>\n",
       "      <td>4</td>\n",
       "      <td>GO-2004126451</td>\n",
       "      <td>2004/01/05 05:00:00+00</td>\n",
       "      <td>2004</td>\n",
       "      <td>January</td>\n",
       "      <td>Monday</td>\n",
       "      <td>13.0</td>\n",
       "      <td>Afternoon</td>\n",
       "      <td>D41</td>\n",
       "      <td>0</td>\n",
       "      <td>1</td>\n",
       "      <td>124</td>\n",
       "      <td>Kennedy Park (124)</td>\n",
       "      <td>-79.255989</td>\n",
       "      <td>43.732878</td>\n",
       "      <td>4</td>\n",
       "    </tr>\n",
       "    <tr>\n",
       "      <th>4</th>\n",
       "      <td>-8.817226e+06</td>\n",
       "      <td>5.435832e+06</td>\n",
       "      <td>5</td>\n",
       "      <td>GO-2004136310</td>\n",
       "      <td>2004/01/06 05:00:00+00</td>\n",
       "      <td>2004</td>\n",
       "      <td>January</td>\n",
       "      <td>Tuesday</td>\n",
       "      <td>19.0</td>\n",
       "      <td>Evening</td>\n",
       "      <td>D42</td>\n",
       "      <td>0</td>\n",
       "      <td>0</td>\n",
       "      <td>132</td>\n",
       "      <td>Malvern (132)</td>\n",
       "      <td>-79.206489</td>\n",
       "      <td>43.808352</td>\n",
       "      <td>5</td>\n",
       "    </tr>\n",
       "  </tbody>\n",
       "</table>\n",
       "</div>"
      ],
      "text/plain": [
       "              X             Y  Index_ Event_Unique_ID         Occurrence_Date  \\\n",
       "0 -8.854151e+06  5.424331e+06       1   GO-2004133803  2004/01/01 05:00:00+00   \n",
       "1  0.000000e+00  0.000000e+00       2   GO-2004120070  2004/01/03 05:00:00+00   \n",
       "2 -8.838687e+06  5.412376e+06       3   GO-2004135509  2004/01/04 05:00:00+00   \n",
       "3 -8.822736e+06  5.424197e+06       4   GO-2004126451  2004/01/05 05:00:00+00   \n",
       "4 -8.817226e+06  5.435832e+06       5   GO-2004136310  2004/01/06 05:00:00+00   \n",
       "\n",
       "   Occurrence_year    Month Day_of_week  Occurrence_Hour Time_Range Division  \\\n",
       "0             2004  January    Thursday              0.0      Night      D31   \n",
       "1             2004  January    Saturday              1.0      Night      D55   \n",
       "2             2004  January      Sunday              4.0      Night      D14   \n",
       "3             2004  January      Monday             13.0  Afternoon      D41   \n",
       "4             2004  January     Tuesday             19.0    Evening      D42   \n",
       "\n",
       "   Death  Injuries Hood_ID              Neighbourhood  Longitude   Latitude  \\\n",
       "0      0         1      23  Pelmo Park-Humberlea (23) -79.538189  43.733748   \n",
       "1      0         0     NSA                        NSA   0.000000   0.000000   \n",
       "2      0         2      78  Kensington-Chinatown (78) -79.399276  43.656102   \n",
       "3      0         1     124         Kennedy Park (124) -79.255989  43.732878   \n",
       "4      0         0     132              Malvern (132) -79.206489  43.808352   \n",
       "\n",
       "   ObjectId  \n",
       "0         1  \n",
       "1         2  \n",
       "2         3  \n",
       "3         4  \n",
       "4         5  "
      ]
     },
     "execution_count": 2,
     "metadata": {},
     "output_type": "execute_result"
    }
   ],
   "source": [
    "df = pd.read_csv('Shootings_and_Firearm_Discharges.csv')\n",
    "df.head()"
   ]
  },
  {
   "cell_type": "code",
   "execution_count": null,
   "metadata": {},
   "outputs": [],
   "source": []
  },
  {
   "cell_type": "code",
   "execution_count": 3,
   "metadata": {},
   "outputs": [
    {
     "name": "stdout",
     "output_type": "stream",
     "text": [
      "<class 'pandas.core.frame.DataFrame'>\n",
      "RangeIndex: 5328 entries, 0 to 5327\n",
      "Data columns (total 18 columns):\n",
      " #   Column           Non-Null Count  Dtype  \n",
      "---  ------           --------------  -----  \n",
      " 0   X                5328 non-null   float64\n",
      " 1   Y                5328 non-null   float64\n",
      " 2   Index_           5328 non-null   int64  \n",
      " 3   Event_Unique_ID  5328 non-null   object \n",
      " 4   Occurrence_Date  5328 non-null   object \n",
      " 5   Occurrence_year  5328 non-null   int64  \n",
      " 6   Month            5328 non-null   object \n",
      " 7   Day_of_week      5328 non-null   object \n",
      " 8   Occurrence_Hour  5327 non-null   float64\n",
      " 9   Time_Range       5328 non-null   object \n",
      " 10  Division         5328 non-null   object \n",
      " 11  Death            5328 non-null   int64  \n",
      " 12  Injuries         5328 non-null   int64  \n",
      " 13  Hood_ID          5328 non-null   object \n",
      " 14  Neighbourhood    5328 non-null   object \n",
      " 15  Longitude        5328 non-null   float64\n",
      " 16  Latitude         5328 non-null   float64\n",
      " 17  ObjectId         5328 non-null   int64  \n",
      "dtypes: float64(5), int64(5), object(8)\n",
      "memory usage: 749.4+ KB\n"
     ]
    },
    {
     "data": {
      "text/plain": [
       "array(['X', 'Y', 'Index_', 'Event_Unique_ID', 'Occurrence_Date',\n",
       "       'Occurrence_year', 'Month', 'Day_of_week', 'Occurrence_Hour',\n",
       "       'Time_Range', 'Division', 'Death', 'Injuries', 'Hood_ID',\n",
       "       'Neighbourhood', 'Longitude', 'Latitude', 'ObjectId'], dtype=object)"
      ]
     },
     "execution_count": 3,
     "metadata": {},
     "output_type": "execute_result"
    }
   ],
   "source": [
    "# Do data analysis on the data\n",
    "df.describe()\n",
    "df.info()\n",
    "df.isnull().sum()\n",
    "df.isnull().sum()/df.shape[0]\n",
    "df.columns\n",
    "df.columns.values\n"
   ]
  },
  {
   "cell_type": "code",
   "execution_count": 4,
   "metadata": {},
   "outputs": [],
   "source": [
    "df_grouped = df.groupby('Neighbourhood')[['Death', 'Injuries']].sum().reset_index()\n"
   ]
  },
  {
   "cell_type": "code",
   "execution_count": 5,
   "metadata": {},
   "outputs": [
    {
     "data": {
      "application/vnd.plotly.v1+json": {
       "config": {
        "plotlyServerURL": "https://plot.ly"
       },
       "data": [
        {
         "alignmentgroup": "True",
         "hovertemplate": "variable=Death<br>Neighbourhood=%{x}<br>value=%{y}<extra></extra>",
         "legendgroup": "Death",
         "marker": {
          "color": "#636efa",
          "pattern": {
           "shape": ""
          }
         },
         "name": "Death",
         "offsetgroup": "Death",
         "orientation": "v",
         "showlegend": true,
         "textposition": "auto",
         "type": "bar",
         "x": [
          "Agincourt North (129)",
          "Agincourt South-Malvern West (128)",
          "Alderwood (20)",
          "Annex (95)",
          "Banbury-Don Mills (42)",
          "Bathurst Manor (34)",
          "Bay Street Corridor (76)",
          "Bayview Village (52)",
          "Bayview Woods-Steeles (49)",
          "Bedford Park-Nortown (39)",
          "Beechborough-Greenbrook (112)",
          "Bendale (127)",
          "Birchcliffe-Cliffside (122)",
          "Black Creek (24)",
          "Blake-Jones (69)",
          "Briar Hill-Belgravia (108)",
          "Bridle Path-Sunnybrook-York Mills (41)",
          "Broadview North (57)",
          "Brookhaven-Amesbury (30)",
          "Cabbagetown-South St.James Town (71)",
          "Caledonia-Fairbank (109)",
          "Centennial Scarborough (133)",
          "Church-Yonge Corridor (75)",
          "Clairlea-Birchmount (120)",
          "Clanton Park (33)",
          "Cliffcrest (123)",
          "Corso Italia-Davenport (92)",
          "Danforth (66)",
          "Danforth East York (59)",
          "Don Valley Village (47)",
          "Dorset Park (126)",
          "Dovercourt-Wallace Emerson-Junction (93)",
          "Downsview-Roding-CFB (26)",
          "Dufferin Grove (83)",
          "East End-Danforth (62)",
          "Edenbridge-Humber Valley (9)",
          "Eglinton East (138)",
          "Elms-Old Rexdale (5)",
          "Englemount-Lawrence (32)",
          "Eringate-Centennial-West Deane (11)",
          "Etobicoke West Mall (13)",
          "Flemingdon Park (44)",
          "Forest Hill North (102)",
          "Forest Hill South (101)",
          "Glenfield-Jane Heights (25)",
          "Greenwood-Coxwell (65)",
          "Guildwood (140)",
          "Henry Farm (53)",
          "High Park North (88)",
          "High Park-Swansea (87)",
          "Highland Creek (134)",
          "Hillcrest Village (48)",
          "Humber Heights-Westmount (8)",
          "Humber Summit (21)",
          "Humbermede (22)",
          "Humewood-Cedarvale (106)",
          "Ionview (125)",
          "Islington-City Centre West (14)",
          "Junction Area (90)",
          "Keelesdale-Eglinton West (110)",
          "Kennedy Park (124)",
          "Kensington-Chinatown (78)",
          "Kingsview Village-The Westway (6)",
          "L'Amoreaux (117)",
          "Lambton Baby Point (114)",
          "Lansing-Westgate (38)",
          "Lawrence Park North (105)",
          "Leaside-Bennington (56)",
          "Little Portugal (84)",
          "Long Branch (19)",
          "Malvern (132)",
          "Maple Leaf (29)",
          "Markland Wood (12)",
          "Milliken (130)",
          "Mimico (includes Humber Bay Shores) (17)",
          "Morningside (135)",
          "Moss Park (73)",
          "Mount Dennis (115)",
          "Mount Olive-Silverstone-Jamestown (2)",
          "Mount Pleasant East (99)",
          "Mount Pleasant West (104)",
          "NSA",
          "New Toronto (18)",
          "Newtonbrook East (50)",
          "Newtonbrook West (36)",
          "Niagara (82)",
          "North Riverdale (68)",
          "North St.James Town (74)",
          "O'Connor-Parkview (54)",
          "Oakridge (121)",
          "Oakwood Village (107)",
          "Old East York (58)",
          "Palmerston-Little Italy (80)",
          "Parkwoods-Donalda (45)",
          "Pelmo Park-Humberlea (23)",
          "Playter Estates-Danforth (67)",
          "Pleasant View (46)",
          "Princess-Rosethorn (10)",
          "Regent Park (72)",
          "Rexdale-Kipling (4)",
          "Rockcliffe-Smythe (111)",
          "Roncesvalles (86)",
          "Rosedale-Moore Park (98)",
          "Rouge (131)",
          "Runnymede-Bloor West Village (89)",
          "Rustic (28)",
          "Scarborough Village (139)",
          "South Parkdale (85)",
          "South Riverdale (70)",
          "St.Andrew-Windfields (40)",
          "Steeles (116)",
          "Stonegate-Queensway (16)",
          "Tam O'Shanter-Sullivan (118)",
          "Taylor-Massey (61)",
          "The Beaches (63)",
          "Thistletown-Beaumond Heights (3)",
          "Thorncliffe Park (55)",
          "Trinity-Bellwoods (81)",
          "University (79)",
          "Victoria Village (43)",
          "Waterfront Communities-The Island (77)",
          "West Hill (136)",
          "West Humber-Clairville (1)",
          "Westminster-Branson (35)",
          "Weston (113)",
          "Weston-Pellam Park (91)",
          "Wexford/Maryvale (119)",
          "Willowdale East (51)",
          "Willowdale West (37)",
          "Willowridge-Martingrove-Richview (7)",
          "Woburn (137)",
          "Woodbine Corridor (64)",
          "Woodbine-Lumsden (60)",
          "Wychwood (94)",
          "Yonge-Eglinton (100)",
          "Yonge-St.Clair (97)",
          "York University Heights (27)",
          "Yorkdale-Glen Park (31)"
         ],
         "xaxis": "x",
         "y": [
          0,
          6,
          5,
          2,
          2,
          1,
          14,
          1,
          2,
          0,
          3,
          4,
          1,
          24,
          3,
          3,
          0,
          0,
          2,
          4,
          0,
          1,
          8,
          8,
          2,
          1,
          1,
          1,
          0,
          1,
          7,
          5,
          16,
          2,
          5,
          1,
          8,
          7,
          7,
          2,
          4,
          7,
          0,
          0,
          22,
          4,
          0,
          2,
          0,
          3,
          3,
          2,
          7,
          11,
          9,
          1,
          0,
          5,
          3,
          6,
          4,
          20,
          11,
          9,
          4,
          2,
          1,
          0,
          2,
          1,
          21,
          2,
          1,
          1,
          2,
          6,
          13,
          8,
          20,
          1,
          1,
          5,
          2,
          0,
          0,
          10,
          3,
          2,
          0,
          3,
          8,
          2,
          0,
          1,
          7,
          1,
          1,
          2,
          15,
          2,
          11,
          0,
          1,
          19,
          0,
          6,
          6,
          7,
          12,
          1,
          0,
          0,
          3,
          4,
          3,
          3,
          4,
          3,
          1,
          6,
          20,
          9,
          19,
          1,
          13,
          2,
          7,
          3,
          0,
          3,
          14,
          2,
          0,
          3,
          2,
          0,
          12,
          12
         ],
         "yaxis": "y"
        },
        {
         "alignmentgroup": "True",
         "hovertemplate": "variable=Injuries<br>Neighbourhood=%{x}<br>value=%{y}<extra></extra>",
         "legendgroup": "Injuries",
         "marker": {
          "color": "#EF553B",
          "pattern": {
           "shape": ""
          }
         },
         "name": "Injuries",
         "offsetgroup": "Injuries",
         "orientation": "v",
         "showlegend": true,
         "textposition": "auto",
         "type": "bar",
         "x": [
          "Agincourt North (129)",
          "Agincourt South-Malvern West (128)",
          "Alderwood (20)",
          "Annex (95)",
          "Banbury-Don Mills (42)",
          "Bathurst Manor (34)",
          "Bay Street Corridor (76)",
          "Bayview Village (52)",
          "Bayview Woods-Steeles (49)",
          "Bedford Park-Nortown (39)",
          "Beechborough-Greenbrook (112)",
          "Bendale (127)",
          "Birchcliffe-Cliffside (122)",
          "Black Creek (24)",
          "Blake-Jones (69)",
          "Briar Hill-Belgravia (108)",
          "Bridle Path-Sunnybrook-York Mills (41)",
          "Broadview North (57)",
          "Brookhaven-Amesbury (30)",
          "Cabbagetown-South St.James Town (71)",
          "Caledonia-Fairbank (109)",
          "Centennial Scarborough (133)",
          "Church-Yonge Corridor (75)",
          "Clairlea-Birchmount (120)",
          "Clanton Park (33)",
          "Cliffcrest (123)",
          "Corso Italia-Davenport (92)",
          "Danforth (66)",
          "Danforth East York (59)",
          "Don Valley Village (47)",
          "Dorset Park (126)",
          "Dovercourt-Wallace Emerson-Junction (93)",
          "Downsview-Roding-CFB (26)",
          "Dufferin Grove (83)",
          "East End-Danforth (62)",
          "Edenbridge-Humber Valley (9)",
          "Eglinton East (138)",
          "Elms-Old Rexdale (5)",
          "Englemount-Lawrence (32)",
          "Eringate-Centennial-West Deane (11)",
          "Etobicoke West Mall (13)",
          "Flemingdon Park (44)",
          "Forest Hill North (102)",
          "Forest Hill South (101)",
          "Glenfield-Jane Heights (25)",
          "Greenwood-Coxwell (65)",
          "Guildwood (140)",
          "Henry Farm (53)",
          "High Park North (88)",
          "High Park-Swansea (87)",
          "Highland Creek (134)",
          "Hillcrest Village (48)",
          "Humber Heights-Westmount (8)",
          "Humber Summit (21)",
          "Humbermede (22)",
          "Humewood-Cedarvale (106)",
          "Ionview (125)",
          "Islington-City Centre West (14)",
          "Junction Area (90)",
          "Keelesdale-Eglinton West (110)",
          "Kennedy Park (124)",
          "Kensington-Chinatown (78)",
          "Kingsview Village-The Westway (6)",
          "L'Amoreaux (117)",
          "Lambton Baby Point (114)",
          "Lansing-Westgate (38)",
          "Lawrence Park North (105)",
          "Leaside-Bennington (56)",
          "Little Portugal (84)",
          "Long Branch (19)",
          "Malvern (132)",
          "Maple Leaf (29)",
          "Markland Wood (12)",
          "Milliken (130)",
          "Mimico (includes Humber Bay Shores) (17)",
          "Morningside (135)",
          "Moss Park (73)",
          "Mount Dennis (115)",
          "Mount Olive-Silverstone-Jamestown (2)",
          "Mount Pleasant East (99)",
          "Mount Pleasant West (104)",
          "NSA",
          "New Toronto (18)",
          "Newtonbrook East (50)",
          "Newtonbrook West (36)",
          "Niagara (82)",
          "North Riverdale (68)",
          "North St.James Town (74)",
          "O'Connor-Parkview (54)",
          "Oakridge (121)",
          "Oakwood Village (107)",
          "Old East York (58)",
          "Palmerston-Little Italy (80)",
          "Parkwoods-Donalda (45)",
          "Pelmo Park-Humberlea (23)",
          "Playter Estates-Danforth (67)",
          "Pleasant View (46)",
          "Princess-Rosethorn (10)",
          "Regent Park (72)",
          "Rexdale-Kipling (4)",
          "Rockcliffe-Smythe (111)",
          "Roncesvalles (86)",
          "Rosedale-Moore Park (98)",
          "Rouge (131)",
          "Runnymede-Bloor West Village (89)",
          "Rustic (28)",
          "Scarborough Village (139)",
          "South Parkdale (85)",
          "South Riverdale (70)",
          "St.Andrew-Windfields (40)",
          "Steeles (116)",
          "Stonegate-Queensway (16)",
          "Tam O'Shanter-Sullivan (118)",
          "Taylor-Massey (61)",
          "The Beaches (63)",
          "Thistletown-Beaumond Heights (3)",
          "Thorncliffe Park (55)",
          "Trinity-Bellwoods (81)",
          "University (79)",
          "Victoria Village (43)",
          "Waterfront Communities-The Island (77)",
          "West Hill (136)",
          "West Humber-Clairville (1)",
          "Westminster-Branson (35)",
          "Weston (113)",
          "Weston-Pellam Park (91)",
          "Wexford/Maryvale (119)",
          "Willowdale East (51)",
          "Willowdale West (37)",
          "Willowridge-Martingrove-Richview (7)",
          "Woburn (137)",
          "Woodbine Corridor (64)",
          "Woodbine-Lumsden (60)",
          "Wychwood (94)",
          "Yonge-Eglinton (100)",
          "Yonge-St.Clair (97)",
          "York University Heights (27)",
          "Yorkdale-Glen Park (31)"
         ],
         "xaxis": "x",
         "y": [
          1,
          18,
          2,
          15,
          5,
          1,
          43,
          5,
          5,
          2,
          14,
          37,
          3,
          83,
          10,
          9,
          7,
          6,
          31,
          8,
          7,
          1,
          28,
          23,
          8,
          19,
          12,
          2,
          6,
          15,
          29,
          20,
          75,
          8,
          13,
          4,
          28,
          29,
          36,
          10,
          16,
          40,
          1,
          0,
          142,
          15,
          1,
          8,
          1,
          18,
          2,
          5,
          15,
          28,
          34,
          2,
          4,
          23,
          1,
          21,
          17,
          63,
          32,
          41,
          4,
          7,
          0,
          1,
          8,
          6,
          67,
          4,
          0,
          13,
          14,
          16,
          45,
          14,
          75,
          2,
          1,
          40,
          12,
          2,
          2,
          27,
          18,
          9,
          24,
          26,
          44,
          1,
          9,
          31,
          17,
          3,
          5,
          3,
          42,
          5,
          61,
          9,
          3,
          10,
          1,
          33,
          25,
          27,
          26,
          4,
          3,
          6,
          19,
          9,
          6,
          4,
          20,
          25,
          2,
          12,
          83,
          56,
          90,
          4,
          46,
          15,
          17,
          7,
          6,
          21,
          51,
          3,
          2,
          3,
          1,
          4,
          59,
          58
         ],
         "yaxis": "y"
        }
       ],
       "layout": {
        "barmode": "relative",
        "legend": {
         "title": {
          "text": "variable"
         },
         "tracegroupgap": 0
        },
        "margin": {
         "t": 60
        },
        "template": {
         "data": {
          "bar": [
           {
            "error_x": {
             "color": "#2a3f5f"
            },
            "error_y": {
             "color": "#2a3f5f"
            },
            "marker": {
             "line": {
              "color": "#E5ECF6",
              "width": 0.5
             },
             "pattern": {
              "fillmode": "overlay",
              "size": 10,
              "solidity": 0.2
             }
            },
            "type": "bar"
           }
          ],
          "barpolar": [
           {
            "marker": {
             "line": {
              "color": "#E5ECF6",
              "width": 0.5
             },
             "pattern": {
              "fillmode": "overlay",
              "size": 10,
              "solidity": 0.2
             }
            },
            "type": "barpolar"
           }
          ],
          "carpet": [
           {
            "aaxis": {
             "endlinecolor": "#2a3f5f",
             "gridcolor": "white",
             "linecolor": "white",
             "minorgridcolor": "white",
             "startlinecolor": "#2a3f5f"
            },
            "baxis": {
             "endlinecolor": "#2a3f5f",
             "gridcolor": "white",
             "linecolor": "white",
             "minorgridcolor": "white",
             "startlinecolor": "#2a3f5f"
            },
            "type": "carpet"
           }
          ],
          "choropleth": [
           {
            "colorbar": {
             "outlinewidth": 0,
             "ticks": ""
            },
            "type": "choropleth"
           }
          ],
          "contour": [
           {
            "colorbar": {
             "outlinewidth": 0,
             "ticks": ""
            },
            "colorscale": [
             [
              0,
              "#0d0887"
             ],
             [
              0.1111111111111111,
              "#46039f"
             ],
             [
              0.2222222222222222,
              "#7201a8"
             ],
             [
              0.3333333333333333,
              "#9c179e"
             ],
             [
              0.4444444444444444,
              "#bd3786"
             ],
             [
              0.5555555555555556,
              "#d8576b"
             ],
             [
              0.6666666666666666,
              "#ed7953"
             ],
             [
              0.7777777777777778,
              "#fb9f3a"
             ],
             [
              0.8888888888888888,
              "#fdca26"
             ],
             [
              1,
              "#f0f921"
             ]
            ],
            "type": "contour"
           }
          ],
          "contourcarpet": [
           {
            "colorbar": {
             "outlinewidth": 0,
             "ticks": ""
            },
            "type": "contourcarpet"
           }
          ],
          "heatmap": [
           {
            "colorbar": {
             "outlinewidth": 0,
             "ticks": ""
            },
            "colorscale": [
             [
              0,
              "#0d0887"
             ],
             [
              0.1111111111111111,
              "#46039f"
             ],
             [
              0.2222222222222222,
              "#7201a8"
             ],
             [
              0.3333333333333333,
              "#9c179e"
             ],
             [
              0.4444444444444444,
              "#bd3786"
             ],
             [
              0.5555555555555556,
              "#d8576b"
             ],
             [
              0.6666666666666666,
              "#ed7953"
             ],
             [
              0.7777777777777778,
              "#fb9f3a"
             ],
             [
              0.8888888888888888,
              "#fdca26"
             ],
             [
              1,
              "#f0f921"
             ]
            ],
            "type": "heatmap"
           }
          ],
          "heatmapgl": [
           {
            "colorbar": {
             "outlinewidth": 0,
             "ticks": ""
            },
            "colorscale": [
             [
              0,
              "#0d0887"
             ],
             [
              0.1111111111111111,
              "#46039f"
             ],
             [
              0.2222222222222222,
              "#7201a8"
             ],
             [
              0.3333333333333333,
              "#9c179e"
             ],
             [
              0.4444444444444444,
              "#bd3786"
             ],
             [
              0.5555555555555556,
              "#d8576b"
             ],
             [
              0.6666666666666666,
              "#ed7953"
             ],
             [
              0.7777777777777778,
              "#fb9f3a"
             ],
             [
              0.8888888888888888,
              "#fdca26"
             ],
             [
              1,
              "#f0f921"
             ]
            ],
            "type": "heatmapgl"
           }
          ],
          "histogram": [
           {
            "marker": {
             "pattern": {
              "fillmode": "overlay",
              "size": 10,
              "solidity": 0.2
             }
            },
            "type": "histogram"
           }
          ],
          "histogram2d": [
           {
            "colorbar": {
             "outlinewidth": 0,
             "ticks": ""
            },
            "colorscale": [
             [
              0,
              "#0d0887"
             ],
             [
              0.1111111111111111,
              "#46039f"
             ],
             [
              0.2222222222222222,
              "#7201a8"
             ],
             [
              0.3333333333333333,
              "#9c179e"
             ],
             [
              0.4444444444444444,
              "#bd3786"
             ],
             [
              0.5555555555555556,
              "#d8576b"
             ],
             [
              0.6666666666666666,
              "#ed7953"
             ],
             [
              0.7777777777777778,
              "#fb9f3a"
             ],
             [
              0.8888888888888888,
              "#fdca26"
             ],
             [
              1,
              "#f0f921"
             ]
            ],
            "type": "histogram2d"
           }
          ],
          "histogram2dcontour": [
           {
            "colorbar": {
             "outlinewidth": 0,
             "ticks": ""
            },
            "colorscale": [
             [
              0,
              "#0d0887"
             ],
             [
              0.1111111111111111,
              "#46039f"
             ],
             [
              0.2222222222222222,
              "#7201a8"
             ],
             [
              0.3333333333333333,
              "#9c179e"
             ],
             [
              0.4444444444444444,
              "#bd3786"
             ],
             [
              0.5555555555555556,
              "#d8576b"
             ],
             [
              0.6666666666666666,
              "#ed7953"
             ],
             [
              0.7777777777777778,
              "#fb9f3a"
             ],
             [
              0.8888888888888888,
              "#fdca26"
             ],
             [
              1,
              "#f0f921"
             ]
            ],
            "type": "histogram2dcontour"
           }
          ],
          "mesh3d": [
           {
            "colorbar": {
             "outlinewidth": 0,
             "ticks": ""
            },
            "type": "mesh3d"
           }
          ],
          "parcoords": [
           {
            "line": {
             "colorbar": {
              "outlinewidth": 0,
              "ticks": ""
             }
            },
            "type": "parcoords"
           }
          ],
          "pie": [
           {
            "automargin": true,
            "type": "pie"
           }
          ],
          "scatter": [
           {
            "fillpattern": {
             "fillmode": "overlay",
             "size": 10,
             "solidity": 0.2
            },
            "type": "scatter"
           }
          ],
          "scatter3d": [
           {
            "line": {
             "colorbar": {
              "outlinewidth": 0,
              "ticks": ""
             }
            },
            "marker": {
             "colorbar": {
              "outlinewidth": 0,
              "ticks": ""
             }
            },
            "type": "scatter3d"
           }
          ],
          "scattercarpet": [
           {
            "marker": {
             "colorbar": {
              "outlinewidth": 0,
              "ticks": ""
             }
            },
            "type": "scattercarpet"
           }
          ],
          "scattergeo": [
           {
            "marker": {
             "colorbar": {
              "outlinewidth": 0,
              "ticks": ""
             }
            },
            "type": "scattergeo"
           }
          ],
          "scattergl": [
           {
            "marker": {
             "colorbar": {
              "outlinewidth": 0,
              "ticks": ""
             }
            },
            "type": "scattergl"
           }
          ],
          "scattermapbox": [
           {
            "marker": {
             "colorbar": {
              "outlinewidth": 0,
              "ticks": ""
             }
            },
            "type": "scattermapbox"
           }
          ],
          "scatterpolar": [
           {
            "marker": {
             "colorbar": {
              "outlinewidth": 0,
              "ticks": ""
             }
            },
            "type": "scatterpolar"
           }
          ],
          "scatterpolargl": [
           {
            "marker": {
             "colorbar": {
              "outlinewidth": 0,
              "ticks": ""
             }
            },
            "type": "scatterpolargl"
           }
          ],
          "scatterternary": [
           {
            "marker": {
             "colorbar": {
              "outlinewidth": 0,
              "ticks": ""
             }
            },
            "type": "scatterternary"
           }
          ],
          "surface": [
           {
            "colorbar": {
             "outlinewidth": 0,
             "ticks": ""
            },
            "colorscale": [
             [
              0,
              "#0d0887"
             ],
             [
              0.1111111111111111,
              "#46039f"
             ],
             [
              0.2222222222222222,
              "#7201a8"
             ],
             [
              0.3333333333333333,
              "#9c179e"
             ],
             [
              0.4444444444444444,
              "#bd3786"
             ],
             [
              0.5555555555555556,
              "#d8576b"
             ],
             [
              0.6666666666666666,
              "#ed7953"
             ],
             [
              0.7777777777777778,
              "#fb9f3a"
             ],
             [
              0.8888888888888888,
              "#fdca26"
             ],
             [
              1,
              "#f0f921"
             ]
            ],
            "type": "surface"
           }
          ],
          "table": [
           {
            "cells": {
             "fill": {
              "color": "#EBF0F8"
             },
             "line": {
              "color": "white"
             }
            },
            "header": {
             "fill": {
              "color": "#C8D4E3"
             },
             "line": {
              "color": "white"
             }
            },
            "type": "table"
           }
          ]
         },
         "layout": {
          "annotationdefaults": {
           "arrowcolor": "#2a3f5f",
           "arrowhead": 0,
           "arrowwidth": 1
          },
          "autotypenumbers": "strict",
          "coloraxis": {
           "colorbar": {
            "outlinewidth": 0,
            "ticks": ""
           }
          },
          "colorscale": {
           "diverging": [
            [
             0,
             "#8e0152"
            ],
            [
             0.1,
             "#c51b7d"
            ],
            [
             0.2,
             "#de77ae"
            ],
            [
             0.3,
             "#f1b6da"
            ],
            [
             0.4,
             "#fde0ef"
            ],
            [
             0.5,
             "#f7f7f7"
            ],
            [
             0.6,
             "#e6f5d0"
            ],
            [
             0.7,
             "#b8e186"
            ],
            [
             0.8,
             "#7fbc41"
            ],
            [
             0.9,
             "#4d9221"
            ],
            [
             1,
             "#276419"
            ]
           ],
           "sequential": [
            [
             0,
             "#0d0887"
            ],
            [
             0.1111111111111111,
             "#46039f"
            ],
            [
             0.2222222222222222,
             "#7201a8"
            ],
            [
             0.3333333333333333,
             "#9c179e"
            ],
            [
             0.4444444444444444,
             "#bd3786"
            ],
            [
             0.5555555555555556,
             "#d8576b"
            ],
            [
             0.6666666666666666,
             "#ed7953"
            ],
            [
             0.7777777777777778,
             "#fb9f3a"
            ],
            [
             0.8888888888888888,
             "#fdca26"
            ],
            [
             1,
             "#f0f921"
            ]
           ],
           "sequentialminus": [
            [
             0,
             "#0d0887"
            ],
            [
             0.1111111111111111,
             "#46039f"
            ],
            [
             0.2222222222222222,
             "#7201a8"
            ],
            [
             0.3333333333333333,
             "#9c179e"
            ],
            [
             0.4444444444444444,
             "#bd3786"
            ],
            [
             0.5555555555555556,
             "#d8576b"
            ],
            [
             0.6666666666666666,
             "#ed7953"
            ],
            [
             0.7777777777777778,
             "#fb9f3a"
            ],
            [
             0.8888888888888888,
             "#fdca26"
            ],
            [
             1,
             "#f0f921"
            ]
           ]
          },
          "colorway": [
           "#636efa",
           "#EF553B",
           "#00cc96",
           "#ab63fa",
           "#FFA15A",
           "#19d3f3",
           "#FF6692",
           "#B6E880",
           "#FF97FF",
           "#FECB52"
          ],
          "font": {
           "color": "#2a3f5f"
          },
          "geo": {
           "bgcolor": "white",
           "lakecolor": "white",
           "landcolor": "#E5ECF6",
           "showlakes": true,
           "showland": true,
           "subunitcolor": "white"
          },
          "hoverlabel": {
           "align": "left"
          },
          "hovermode": "closest",
          "mapbox": {
           "style": "light"
          },
          "paper_bgcolor": "white",
          "plot_bgcolor": "#E5ECF6",
          "polar": {
           "angularaxis": {
            "gridcolor": "white",
            "linecolor": "white",
            "ticks": ""
           },
           "bgcolor": "#E5ECF6",
           "radialaxis": {
            "gridcolor": "white",
            "linecolor": "white",
            "ticks": ""
           }
          },
          "scene": {
           "xaxis": {
            "backgroundcolor": "#E5ECF6",
            "gridcolor": "white",
            "gridwidth": 2,
            "linecolor": "white",
            "showbackground": true,
            "ticks": "",
            "zerolinecolor": "white"
           },
           "yaxis": {
            "backgroundcolor": "#E5ECF6",
            "gridcolor": "white",
            "gridwidth": 2,
            "linecolor": "white",
            "showbackground": true,
            "ticks": "",
            "zerolinecolor": "white"
           },
           "zaxis": {
            "backgroundcolor": "#E5ECF6",
            "gridcolor": "white",
            "gridwidth": 2,
            "linecolor": "white",
            "showbackground": true,
            "ticks": "",
            "zerolinecolor": "white"
           }
          },
          "shapedefaults": {
           "line": {
            "color": "#2a3f5f"
           }
          },
          "ternary": {
           "aaxis": {
            "gridcolor": "white",
            "linecolor": "white",
            "ticks": ""
           },
           "baxis": {
            "gridcolor": "white",
            "linecolor": "white",
            "ticks": ""
           },
           "bgcolor": "#E5ECF6",
           "caxis": {
            "gridcolor": "white",
            "linecolor": "white",
            "ticks": ""
           }
          },
          "title": {
           "x": 0.05
          },
          "xaxis": {
           "automargin": true,
           "gridcolor": "white",
           "linecolor": "white",
           "ticks": "",
           "title": {
            "standoff": 15
           },
           "zerolinecolor": "white",
           "zerolinewidth": 2
          },
          "yaxis": {
           "automargin": true,
           "gridcolor": "white",
           "linecolor": "white",
           "ticks": "",
           "title": {
            "standoff": 15
           },
           "zerolinecolor": "white",
           "zerolinewidth": 2
          }
         }
        },
        "xaxis": {
         "anchor": "y",
         "domain": [
          0,
          1
         ],
         "title": {
          "text": "Neighbourhood"
         }
        },
        "yaxis": {
         "anchor": "x",
         "domain": [
          0,
          1
         ],
         "title": {
          "text": "value"
         }
        }
       }
      }
     },
     "metadata": {},
     "output_type": "display_data"
    },
    {
     "data": {
      "application/vnd.plotly.v1+json": {
       "config": {
        "plotlyServerURL": "https://plot.ly"
       },
       "data": [
        {
         "alignmentgroup": "True",
         "hovertemplate": "Neighbourhood=%{x}<br>value=%{y}<br>Death=%{marker.color}<extra></extra>",
         "legendgroup": "",
         "marker": {
          "color": [
           0,
           6,
           5,
           2,
           2,
           1,
           14,
           1,
           2,
           0,
           3,
           4,
           1,
           24,
           3,
           3,
           0,
           0,
           2,
           4,
           0,
           1,
           8,
           8,
           2,
           1,
           1,
           1,
           0,
           1,
           7,
           5,
           16,
           2,
           5,
           1,
           8,
           7,
           7,
           2,
           4,
           7,
           0,
           0,
           22,
           4,
           0,
           2,
           0,
           3,
           3,
           2,
           7,
           11,
           9,
           1,
           0,
           5,
           3,
           6,
           4,
           20,
           11,
           9,
           4,
           2,
           1,
           0,
           2,
           1,
           21,
           2,
           1,
           1,
           2,
           6,
           13,
           8,
           20,
           1,
           1,
           5,
           2,
           0,
           0,
           10,
           3,
           2,
           0,
           3,
           8,
           2,
           0,
           1,
           7,
           1,
           1,
           2,
           15,
           2,
           11,
           0,
           1,
           19,
           0,
           6,
           6,
           7,
           12,
           1,
           0,
           0,
           3,
           4,
           3,
           3,
           4,
           3,
           1,
           6,
           20,
           9,
           19,
           1,
           13,
           2,
           7,
           3,
           0,
           3,
           14,
           2,
           0,
           3,
           2,
           0,
           12,
           12
          ],
          "coloraxis": "coloraxis",
          "pattern": {
           "shape": ""
          }
         },
         "name": "",
         "offsetgroup": "",
         "orientation": "v",
         "showlegend": false,
         "textposition": "auto",
         "type": "bar",
         "x": [
          "Agincourt North (129)",
          "Agincourt South-Malvern West (128)",
          "Alderwood (20)",
          "Annex (95)",
          "Banbury-Don Mills (42)",
          "Bathurst Manor (34)",
          "Bay Street Corridor (76)",
          "Bayview Village (52)",
          "Bayview Woods-Steeles (49)",
          "Bedford Park-Nortown (39)",
          "Beechborough-Greenbrook (112)",
          "Bendale (127)",
          "Birchcliffe-Cliffside (122)",
          "Black Creek (24)",
          "Blake-Jones (69)",
          "Briar Hill-Belgravia (108)",
          "Bridle Path-Sunnybrook-York Mills (41)",
          "Broadview North (57)",
          "Brookhaven-Amesbury (30)",
          "Cabbagetown-South St.James Town (71)",
          "Caledonia-Fairbank (109)",
          "Centennial Scarborough (133)",
          "Church-Yonge Corridor (75)",
          "Clairlea-Birchmount (120)",
          "Clanton Park (33)",
          "Cliffcrest (123)",
          "Corso Italia-Davenport (92)",
          "Danforth (66)",
          "Danforth East York (59)",
          "Don Valley Village (47)",
          "Dorset Park (126)",
          "Dovercourt-Wallace Emerson-Junction (93)",
          "Downsview-Roding-CFB (26)",
          "Dufferin Grove (83)",
          "East End-Danforth (62)",
          "Edenbridge-Humber Valley (9)",
          "Eglinton East (138)",
          "Elms-Old Rexdale (5)",
          "Englemount-Lawrence (32)",
          "Eringate-Centennial-West Deane (11)",
          "Etobicoke West Mall (13)",
          "Flemingdon Park (44)",
          "Forest Hill North (102)",
          "Forest Hill South (101)",
          "Glenfield-Jane Heights (25)",
          "Greenwood-Coxwell (65)",
          "Guildwood (140)",
          "Henry Farm (53)",
          "High Park North (88)",
          "High Park-Swansea (87)",
          "Highland Creek (134)",
          "Hillcrest Village (48)",
          "Humber Heights-Westmount (8)",
          "Humber Summit (21)",
          "Humbermede (22)",
          "Humewood-Cedarvale (106)",
          "Ionview (125)",
          "Islington-City Centre West (14)",
          "Junction Area (90)",
          "Keelesdale-Eglinton West (110)",
          "Kennedy Park (124)",
          "Kensington-Chinatown (78)",
          "Kingsview Village-The Westway (6)",
          "L'Amoreaux (117)",
          "Lambton Baby Point (114)",
          "Lansing-Westgate (38)",
          "Lawrence Park North (105)",
          "Leaside-Bennington (56)",
          "Little Portugal (84)",
          "Long Branch (19)",
          "Malvern (132)",
          "Maple Leaf (29)",
          "Markland Wood (12)",
          "Milliken (130)",
          "Mimico (includes Humber Bay Shores) (17)",
          "Morningside (135)",
          "Moss Park (73)",
          "Mount Dennis (115)",
          "Mount Olive-Silverstone-Jamestown (2)",
          "Mount Pleasant East (99)",
          "Mount Pleasant West (104)",
          "NSA",
          "New Toronto (18)",
          "Newtonbrook East (50)",
          "Newtonbrook West (36)",
          "Niagara (82)",
          "North Riverdale (68)",
          "North St.James Town (74)",
          "O'Connor-Parkview (54)",
          "Oakridge (121)",
          "Oakwood Village (107)",
          "Old East York (58)",
          "Palmerston-Little Italy (80)",
          "Parkwoods-Donalda (45)",
          "Pelmo Park-Humberlea (23)",
          "Playter Estates-Danforth (67)",
          "Pleasant View (46)",
          "Princess-Rosethorn (10)",
          "Regent Park (72)",
          "Rexdale-Kipling (4)",
          "Rockcliffe-Smythe (111)",
          "Roncesvalles (86)",
          "Rosedale-Moore Park (98)",
          "Rouge (131)",
          "Runnymede-Bloor West Village (89)",
          "Rustic (28)",
          "Scarborough Village (139)",
          "South Parkdale (85)",
          "South Riverdale (70)",
          "St.Andrew-Windfields (40)",
          "Steeles (116)",
          "Stonegate-Queensway (16)",
          "Tam O'Shanter-Sullivan (118)",
          "Taylor-Massey (61)",
          "The Beaches (63)",
          "Thistletown-Beaumond Heights (3)",
          "Thorncliffe Park (55)",
          "Trinity-Bellwoods (81)",
          "University (79)",
          "Victoria Village (43)",
          "Waterfront Communities-The Island (77)",
          "West Hill (136)",
          "West Humber-Clairville (1)",
          "Westminster-Branson (35)",
          "Weston (113)",
          "Weston-Pellam Park (91)",
          "Wexford/Maryvale (119)",
          "Willowdale East (51)",
          "Willowdale West (37)",
          "Willowridge-Martingrove-Richview (7)",
          "Woburn (137)",
          "Woodbine Corridor (64)",
          "Woodbine-Lumsden (60)",
          "Wychwood (94)",
          "Yonge-Eglinton (100)",
          "Yonge-St.Clair (97)",
          "York University Heights (27)",
          "Yorkdale-Glen Park (31)"
         ],
         "xaxis": "x",
         "y": [
          1,
          18,
          2,
          15,
          5,
          1,
          43,
          5,
          5,
          2,
          14,
          37,
          3,
          83,
          10,
          9,
          7,
          6,
          31,
          8,
          7,
          1,
          28,
          23,
          8,
          19,
          12,
          2,
          6,
          15,
          29,
          20,
          75,
          8,
          13,
          4,
          28,
          29,
          36,
          10,
          16,
          40,
          1,
          0,
          142,
          15,
          1,
          8,
          1,
          18,
          2,
          5,
          15,
          28,
          34,
          2,
          4,
          23,
          1,
          21,
          17,
          63,
          32,
          41,
          4,
          7,
          0,
          1,
          8,
          6,
          67,
          4,
          0,
          13,
          14,
          16,
          45,
          14,
          75,
          2,
          1,
          40,
          12,
          2,
          2,
          27,
          18,
          9,
          24,
          26,
          44,
          1,
          9,
          31,
          17,
          3,
          5,
          3,
          42,
          5,
          61,
          9,
          3,
          10,
          1,
          33,
          25,
          27,
          26,
          4,
          3,
          6,
          19,
          9,
          6,
          4,
          20,
          25,
          2,
          12,
          83,
          56,
          90,
          4,
          46,
          15,
          17,
          7,
          6,
          21,
          51,
          3,
          2,
          3,
          1,
          4,
          59,
          58
         ],
         "yaxis": "y"
        }
       ],
       "layout": {
        "barmode": "relative",
        "coloraxis": {
         "colorbar": {
          "title": {
           "text": "Death"
          }
         },
         "colorscale": [
          [
           0,
           "#0d0887"
          ],
          [
           0.1111111111111111,
           "#46039f"
          ],
          [
           0.2222222222222222,
           "#7201a8"
          ],
          [
           0.3333333333333333,
           "#9c179e"
          ],
          [
           0.4444444444444444,
           "#bd3786"
          ],
          [
           0.5555555555555556,
           "#d8576b"
          ],
          [
           0.6666666666666666,
           "#ed7953"
          ],
          [
           0.7777777777777778,
           "#fb9f3a"
          ],
          [
           0.8888888888888888,
           "#fdca26"
          ],
          [
           1,
           "#f0f921"
          ]
         ]
        },
        "legend": {
         "tracegroupgap": 0
        },
        "margin": {
         "t": 60
        },
        "template": {
         "data": {
          "bar": [
           {
            "error_x": {
             "color": "#2a3f5f"
            },
            "error_y": {
             "color": "#2a3f5f"
            },
            "marker": {
             "line": {
              "color": "#E5ECF6",
              "width": 0.5
             },
             "pattern": {
              "fillmode": "overlay",
              "size": 10,
              "solidity": 0.2
             }
            },
            "type": "bar"
           }
          ],
          "barpolar": [
           {
            "marker": {
             "line": {
              "color": "#E5ECF6",
              "width": 0.5
             },
             "pattern": {
              "fillmode": "overlay",
              "size": 10,
              "solidity": 0.2
             }
            },
            "type": "barpolar"
           }
          ],
          "carpet": [
           {
            "aaxis": {
             "endlinecolor": "#2a3f5f",
             "gridcolor": "white",
             "linecolor": "white",
             "minorgridcolor": "white",
             "startlinecolor": "#2a3f5f"
            },
            "baxis": {
             "endlinecolor": "#2a3f5f",
             "gridcolor": "white",
             "linecolor": "white",
             "minorgridcolor": "white",
             "startlinecolor": "#2a3f5f"
            },
            "type": "carpet"
           }
          ],
          "choropleth": [
           {
            "colorbar": {
             "outlinewidth": 0,
             "ticks": ""
            },
            "type": "choropleth"
           }
          ],
          "contour": [
           {
            "colorbar": {
             "outlinewidth": 0,
             "ticks": ""
            },
            "colorscale": [
             [
              0,
              "#0d0887"
             ],
             [
              0.1111111111111111,
              "#46039f"
             ],
             [
              0.2222222222222222,
              "#7201a8"
             ],
             [
              0.3333333333333333,
              "#9c179e"
             ],
             [
              0.4444444444444444,
              "#bd3786"
             ],
             [
              0.5555555555555556,
              "#d8576b"
             ],
             [
              0.6666666666666666,
              "#ed7953"
             ],
             [
              0.7777777777777778,
              "#fb9f3a"
             ],
             [
              0.8888888888888888,
              "#fdca26"
             ],
             [
              1,
              "#f0f921"
             ]
            ],
            "type": "contour"
           }
          ],
          "contourcarpet": [
           {
            "colorbar": {
             "outlinewidth": 0,
             "ticks": ""
            },
            "type": "contourcarpet"
           }
          ],
          "heatmap": [
           {
            "colorbar": {
             "outlinewidth": 0,
             "ticks": ""
            },
            "colorscale": [
             [
              0,
              "#0d0887"
             ],
             [
              0.1111111111111111,
              "#46039f"
             ],
             [
              0.2222222222222222,
              "#7201a8"
             ],
             [
              0.3333333333333333,
              "#9c179e"
             ],
             [
              0.4444444444444444,
              "#bd3786"
             ],
             [
              0.5555555555555556,
              "#d8576b"
             ],
             [
              0.6666666666666666,
              "#ed7953"
             ],
             [
              0.7777777777777778,
              "#fb9f3a"
             ],
             [
              0.8888888888888888,
              "#fdca26"
             ],
             [
              1,
              "#f0f921"
             ]
            ],
            "type": "heatmap"
           }
          ],
          "heatmapgl": [
           {
            "colorbar": {
             "outlinewidth": 0,
             "ticks": ""
            },
            "colorscale": [
             [
              0,
              "#0d0887"
             ],
             [
              0.1111111111111111,
              "#46039f"
             ],
             [
              0.2222222222222222,
              "#7201a8"
             ],
             [
              0.3333333333333333,
              "#9c179e"
             ],
             [
              0.4444444444444444,
              "#bd3786"
             ],
             [
              0.5555555555555556,
              "#d8576b"
             ],
             [
              0.6666666666666666,
              "#ed7953"
             ],
             [
              0.7777777777777778,
              "#fb9f3a"
             ],
             [
              0.8888888888888888,
              "#fdca26"
             ],
             [
              1,
              "#f0f921"
             ]
            ],
            "type": "heatmapgl"
           }
          ],
          "histogram": [
           {
            "marker": {
             "pattern": {
              "fillmode": "overlay",
              "size": 10,
              "solidity": 0.2
             }
            },
            "type": "histogram"
           }
          ],
          "histogram2d": [
           {
            "colorbar": {
             "outlinewidth": 0,
             "ticks": ""
            },
            "colorscale": [
             [
              0,
              "#0d0887"
             ],
             [
              0.1111111111111111,
              "#46039f"
             ],
             [
              0.2222222222222222,
              "#7201a8"
             ],
             [
              0.3333333333333333,
              "#9c179e"
             ],
             [
              0.4444444444444444,
              "#bd3786"
             ],
             [
              0.5555555555555556,
              "#d8576b"
             ],
             [
              0.6666666666666666,
              "#ed7953"
             ],
             [
              0.7777777777777778,
              "#fb9f3a"
             ],
             [
              0.8888888888888888,
              "#fdca26"
             ],
             [
              1,
              "#f0f921"
             ]
            ],
            "type": "histogram2d"
           }
          ],
          "histogram2dcontour": [
           {
            "colorbar": {
             "outlinewidth": 0,
             "ticks": ""
            },
            "colorscale": [
             [
              0,
              "#0d0887"
             ],
             [
              0.1111111111111111,
              "#46039f"
             ],
             [
              0.2222222222222222,
              "#7201a8"
             ],
             [
              0.3333333333333333,
              "#9c179e"
             ],
             [
              0.4444444444444444,
              "#bd3786"
             ],
             [
              0.5555555555555556,
              "#d8576b"
             ],
             [
              0.6666666666666666,
              "#ed7953"
             ],
             [
              0.7777777777777778,
              "#fb9f3a"
             ],
             [
              0.8888888888888888,
              "#fdca26"
             ],
             [
              1,
              "#f0f921"
             ]
            ],
            "type": "histogram2dcontour"
           }
          ],
          "mesh3d": [
           {
            "colorbar": {
             "outlinewidth": 0,
             "ticks": ""
            },
            "type": "mesh3d"
           }
          ],
          "parcoords": [
           {
            "line": {
             "colorbar": {
              "outlinewidth": 0,
              "ticks": ""
             }
            },
            "type": "parcoords"
           }
          ],
          "pie": [
           {
            "automargin": true,
            "type": "pie"
           }
          ],
          "scatter": [
           {
            "fillpattern": {
             "fillmode": "overlay",
             "size": 10,
             "solidity": 0.2
            },
            "type": "scatter"
           }
          ],
          "scatter3d": [
           {
            "line": {
             "colorbar": {
              "outlinewidth": 0,
              "ticks": ""
             }
            },
            "marker": {
             "colorbar": {
              "outlinewidth": 0,
              "ticks": ""
             }
            },
            "type": "scatter3d"
           }
          ],
          "scattercarpet": [
           {
            "marker": {
             "colorbar": {
              "outlinewidth": 0,
              "ticks": ""
             }
            },
            "type": "scattercarpet"
           }
          ],
          "scattergeo": [
           {
            "marker": {
             "colorbar": {
              "outlinewidth": 0,
              "ticks": ""
             }
            },
            "type": "scattergeo"
           }
          ],
          "scattergl": [
           {
            "marker": {
             "colorbar": {
              "outlinewidth": 0,
              "ticks": ""
             }
            },
            "type": "scattergl"
           }
          ],
          "scattermapbox": [
           {
            "marker": {
             "colorbar": {
              "outlinewidth": 0,
              "ticks": ""
             }
            },
            "type": "scattermapbox"
           }
          ],
          "scatterpolar": [
           {
            "marker": {
             "colorbar": {
              "outlinewidth": 0,
              "ticks": ""
             }
            },
            "type": "scatterpolar"
           }
          ],
          "scatterpolargl": [
           {
            "marker": {
             "colorbar": {
              "outlinewidth": 0,
              "ticks": ""
             }
            },
            "type": "scatterpolargl"
           }
          ],
          "scatterternary": [
           {
            "marker": {
             "colorbar": {
              "outlinewidth": 0,
              "ticks": ""
             }
            },
            "type": "scatterternary"
           }
          ],
          "surface": [
           {
            "colorbar": {
             "outlinewidth": 0,
             "ticks": ""
            },
            "colorscale": [
             [
              0,
              "#0d0887"
             ],
             [
              0.1111111111111111,
              "#46039f"
             ],
             [
              0.2222222222222222,
              "#7201a8"
             ],
             [
              0.3333333333333333,
              "#9c179e"
             ],
             [
              0.4444444444444444,
              "#bd3786"
             ],
             [
              0.5555555555555556,
              "#d8576b"
             ],
             [
              0.6666666666666666,
              "#ed7953"
             ],
             [
              0.7777777777777778,
              "#fb9f3a"
             ],
             [
              0.8888888888888888,
              "#fdca26"
             ],
             [
              1,
              "#f0f921"
             ]
            ],
            "type": "surface"
           }
          ],
          "table": [
           {
            "cells": {
             "fill": {
              "color": "#EBF0F8"
             },
             "line": {
              "color": "white"
             }
            },
            "header": {
             "fill": {
              "color": "#C8D4E3"
             },
             "line": {
              "color": "white"
             }
            },
            "type": "table"
           }
          ]
         },
         "layout": {
          "annotationdefaults": {
           "arrowcolor": "#2a3f5f",
           "arrowhead": 0,
           "arrowwidth": 1
          },
          "autotypenumbers": "strict",
          "coloraxis": {
           "colorbar": {
            "outlinewidth": 0,
            "ticks": ""
           }
          },
          "colorscale": {
           "diverging": [
            [
             0,
             "#8e0152"
            ],
            [
             0.1,
             "#c51b7d"
            ],
            [
             0.2,
             "#de77ae"
            ],
            [
             0.3,
             "#f1b6da"
            ],
            [
             0.4,
             "#fde0ef"
            ],
            [
             0.5,
             "#f7f7f7"
            ],
            [
             0.6,
             "#e6f5d0"
            ],
            [
             0.7,
             "#b8e186"
            ],
            [
             0.8,
             "#7fbc41"
            ],
            [
             0.9,
             "#4d9221"
            ],
            [
             1,
             "#276419"
            ]
           ],
           "sequential": [
            [
             0,
             "#0d0887"
            ],
            [
             0.1111111111111111,
             "#46039f"
            ],
            [
             0.2222222222222222,
             "#7201a8"
            ],
            [
             0.3333333333333333,
             "#9c179e"
            ],
            [
             0.4444444444444444,
             "#bd3786"
            ],
            [
             0.5555555555555556,
             "#d8576b"
            ],
            [
             0.6666666666666666,
             "#ed7953"
            ],
            [
             0.7777777777777778,
             "#fb9f3a"
            ],
            [
             0.8888888888888888,
             "#fdca26"
            ],
            [
             1,
             "#f0f921"
            ]
           ],
           "sequentialminus": [
            [
             0,
             "#0d0887"
            ],
            [
             0.1111111111111111,
             "#46039f"
            ],
            [
             0.2222222222222222,
             "#7201a8"
            ],
            [
             0.3333333333333333,
             "#9c179e"
            ],
            [
             0.4444444444444444,
             "#bd3786"
            ],
            [
             0.5555555555555556,
             "#d8576b"
            ],
            [
             0.6666666666666666,
             "#ed7953"
            ],
            [
             0.7777777777777778,
             "#fb9f3a"
            ],
            [
             0.8888888888888888,
             "#fdca26"
            ],
            [
             1,
             "#f0f921"
            ]
           ]
          },
          "colorway": [
           "#636efa",
           "#EF553B",
           "#00cc96",
           "#ab63fa",
           "#FFA15A",
           "#19d3f3",
           "#FF6692",
           "#B6E880",
           "#FF97FF",
           "#FECB52"
          ],
          "font": {
           "color": "#2a3f5f"
          },
          "geo": {
           "bgcolor": "white",
           "lakecolor": "white",
           "landcolor": "#E5ECF6",
           "showlakes": true,
           "showland": true,
           "subunitcolor": "white"
          },
          "hoverlabel": {
           "align": "left"
          },
          "hovermode": "closest",
          "mapbox": {
           "style": "light"
          },
          "paper_bgcolor": "white",
          "plot_bgcolor": "#E5ECF6",
          "polar": {
           "angularaxis": {
            "gridcolor": "white",
            "linecolor": "white",
            "ticks": ""
           },
           "bgcolor": "#E5ECF6",
           "radialaxis": {
            "gridcolor": "white",
            "linecolor": "white",
            "ticks": ""
           }
          },
          "scene": {
           "xaxis": {
            "backgroundcolor": "#E5ECF6",
            "gridcolor": "white",
            "gridwidth": 2,
            "linecolor": "white",
            "showbackground": true,
            "ticks": "",
            "zerolinecolor": "white"
           },
           "yaxis": {
            "backgroundcolor": "#E5ECF6",
            "gridcolor": "white",
            "gridwidth": 2,
            "linecolor": "white",
            "showbackground": true,
            "ticks": "",
            "zerolinecolor": "white"
           },
           "zaxis": {
            "backgroundcolor": "#E5ECF6",
            "gridcolor": "white",
            "gridwidth": 2,
            "linecolor": "white",
            "showbackground": true,
            "ticks": "",
            "zerolinecolor": "white"
           }
          },
          "shapedefaults": {
           "line": {
            "color": "#2a3f5f"
           }
          },
          "ternary": {
           "aaxis": {
            "gridcolor": "white",
            "linecolor": "white",
            "ticks": ""
           },
           "baxis": {
            "gridcolor": "white",
            "linecolor": "white",
            "ticks": ""
           },
           "bgcolor": "#E5ECF6",
           "caxis": {
            "gridcolor": "white",
            "linecolor": "white",
            "ticks": ""
           }
          },
          "title": {
           "x": 0.05
          },
          "xaxis": {
           "automargin": true,
           "gridcolor": "white",
           "linecolor": "white",
           "ticks": "",
           "title": {
            "standoff": 15
           },
           "zerolinecolor": "white",
           "zerolinewidth": 2
          },
          "yaxis": {
           "automargin": true,
           "gridcolor": "white",
           "linecolor": "white",
           "ticks": "",
           "title": {
            "standoff": 15
           },
           "zerolinecolor": "white",
           "zerolinewidth": 2
          }
         }
        },
        "xaxis": {
         "anchor": "y",
         "domain": [
          0,
          1
         ],
         "title": {
          "text": "Neighbourhood"
         }
        },
        "yaxis": {
         "anchor": "x",
         "domain": [
          0,
          1
         ],
         "title": {
          "text": "value"
         }
        }
       }
      }
     },
     "metadata": {},
     "output_type": "display_data"
    }
   ],
   "source": [
    "# Graph 1:\n",
    "fig = px.bar(df_grouped, x='Neighbourhood', y=['Death', 'Injuries'])\n",
    "fig.show()\n",
    "# Graph 2:\n",
    "fig = px.bar(df_grouped, x='Neighbourhood', y=['Death', 'Injuries'], color='Death')\n",
    "fig.show()\n",
    "# Graph 3:\n",
    "fig = px.bar(df_grouped, x='Neighbourhood', y=['Death', 'Injuries'], color='Injuries')"
   ]
  },
  {
   "cell_type": "code",
   "execution_count": 6,
   "metadata": {},
   "outputs": [
    {
     "data": {
      "text/html": [
       "<div>\n",
       "<style scoped>\n",
       "    .dataframe tbody tr th:only-of-type {\n",
       "        vertical-align: middle;\n",
       "    }\n",
       "\n",
       "    .dataframe tbody tr th {\n",
       "        vertical-align: top;\n",
       "    }\n",
       "\n",
       "    .dataframe thead th {\n",
       "        text-align: right;\n",
       "    }\n",
       "</style>\n",
       "<table border=\"1\" class=\"dataframe\">\n",
       "  <thead>\n",
       "    <tr style=\"text-align: right;\">\n",
       "      <th></th>\n",
       "      <th>Province/State</th>\n",
       "      <th>Country/Region</th>\n",
       "      <th>Lat</th>\n",
       "      <th>Long</th>\n",
       "      <th>1/22/20</th>\n",
       "      <th>1/23/20</th>\n",
       "      <th>1/24/20</th>\n",
       "      <th>1/25/20</th>\n",
       "      <th>1/26/20</th>\n",
       "      <th>1/27/20</th>\n",
       "      <th>...</th>\n",
       "      <th>6/7/22</th>\n",
       "      <th>6/8/22</th>\n",
       "      <th>6/9/22</th>\n",
       "      <th>6/10/22</th>\n",
       "      <th>6/11/22</th>\n",
       "      <th>6/12/22</th>\n",
       "      <th>6/13/22</th>\n",
       "      <th>6/14/22</th>\n",
       "      <th>6/15/22</th>\n",
       "      <th>6/16/22</th>\n",
       "    </tr>\n",
       "  </thead>\n",
       "  <tbody>\n",
       "    <tr>\n",
       "      <th>0</th>\n",
       "      <td>NaN</td>\n",
       "      <td>Afghanistan</td>\n",
       "      <td>33.93911</td>\n",
       "      <td>67.709953</td>\n",
       "      <td>0</td>\n",
       "      <td>0</td>\n",
       "      <td>0</td>\n",
       "      <td>0</td>\n",
       "      <td>0</td>\n",
       "      <td>0</td>\n",
       "      <td>...</td>\n",
       "      <td>180741</td>\n",
       "      <td>180784</td>\n",
       "      <td>180864</td>\n",
       "      <td>180864</td>\n",
       "      <td>180864</td>\n",
       "      <td>180864</td>\n",
       "      <td>181120</td>\n",
       "      <td>181178</td>\n",
       "      <td>181236</td>\n",
       "      <td>181465</td>\n",
       "    </tr>\n",
       "    <tr>\n",
       "      <th>1</th>\n",
       "      <td>NaN</td>\n",
       "      <td>Albania</td>\n",
       "      <td>41.15330</td>\n",
       "      <td>20.168300</td>\n",
       "      <td>0</td>\n",
       "      <td>0</td>\n",
       "      <td>0</td>\n",
       "      <td>0</td>\n",
       "      <td>0</td>\n",
       "      <td>0</td>\n",
       "      <td>...</td>\n",
       "      <td>276468</td>\n",
       "      <td>276518</td>\n",
       "      <td>276583</td>\n",
       "      <td>276638</td>\n",
       "      <td>276690</td>\n",
       "      <td>276731</td>\n",
       "      <td>276731</td>\n",
       "      <td>276821</td>\n",
       "      <td>276821</td>\n",
       "      <td>276821</td>\n",
       "    </tr>\n",
       "    <tr>\n",
       "      <th>2</th>\n",
       "      <td>NaN</td>\n",
       "      <td>Algeria</td>\n",
       "      <td>28.03390</td>\n",
       "      <td>1.659600</td>\n",
       "      <td>0</td>\n",
       "      <td>0</td>\n",
       "      <td>0</td>\n",
       "      <td>0</td>\n",
       "      <td>0</td>\n",
       "      <td>0</td>\n",
       "      <td>...</td>\n",
       "      <td>265904</td>\n",
       "      <td>265909</td>\n",
       "      <td>265920</td>\n",
       "      <td>265925</td>\n",
       "      <td>265925</td>\n",
       "      <td>265927</td>\n",
       "      <td>265937</td>\n",
       "      <td>265943</td>\n",
       "      <td>265952</td>\n",
       "      <td>265964</td>\n",
       "    </tr>\n",
       "    <tr>\n",
       "      <th>3</th>\n",
       "      <td>NaN</td>\n",
       "      <td>Andorra</td>\n",
       "      <td>42.50630</td>\n",
       "      <td>1.521800</td>\n",
       "      <td>0</td>\n",
       "      <td>0</td>\n",
       "      <td>0</td>\n",
       "      <td>0</td>\n",
       "      <td>0</td>\n",
       "      <td>0</td>\n",
       "      <td>...</td>\n",
       "      <td>43067</td>\n",
       "      <td>43224</td>\n",
       "      <td>43224</td>\n",
       "      <td>43224</td>\n",
       "      <td>43224</td>\n",
       "      <td>43224</td>\n",
       "      <td>43224</td>\n",
       "      <td>43224</td>\n",
       "      <td>43449</td>\n",
       "      <td>43449</td>\n",
       "    </tr>\n",
       "    <tr>\n",
       "      <th>4</th>\n",
       "      <td>NaN</td>\n",
       "      <td>Angola</td>\n",
       "      <td>-11.20270</td>\n",
       "      <td>17.873900</td>\n",
       "      <td>0</td>\n",
       "      <td>0</td>\n",
       "      <td>0</td>\n",
       "      <td>0</td>\n",
       "      <td>0</td>\n",
       "      <td>0</td>\n",
       "      <td>...</td>\n",
       "      <td>99761</td>\n",
       "      <td>99761</td>\n",
       "      <td>99761</td>\n",
       "      <td>99761</td>\n",
       "      <td>99761</td>\n",
       "      <td>99761</td>\n",
       "      <td>99761</td>\n",
       "      <td>99761</td>\n",
       "      <td>99761</td>\n",
       "      <td>99761</td>\n",
       "    </tr>\n",
       "  </tbody>\n",
       "</table>\n",
       "<p>5 rows × 881 columns</p>\n",
       "</div>"
      ],
      "text/plain": [
       "  Province/State Country/Region       Lat       Long  1/22/20  1/23/20  \\\n",
       "0            NaN    Afghanistan  33.93911  67.709953        0        0   \n",
       "1            NaN        Albania  41.15330  20.168300        0        0   \n",
       "2            NaN        Algeria  28.03390   1.659600        0        0   \n",
       "3            NaN        Andorra  42.50630   1.521800        0        0   \n",
       "4            NaN         Angola -11.20270  17.873900        0        0   \n",
       "\n",
       "   1/24/20  1/25/20  1/26/20  1/27/20  ...  6/7/22  6/8/22  6/9/22  6/10/22  \\\n",
       "0        0        0        0        0  ...  180741  180784  180864   180864   \n",
       "1        0        0        0        0  ...  276468  276518  276583   276638   \n",
       "2        0        0        0        0  ...  265904  265909  265920   265925   \n",
       "3        0        0        0        0  ...   43067   43224   43224    43224   \n",
       "4        0        0        0        0  ...   99761   99761   99761    99761   \n",
       "\n",
       "   6/11/22  6/12/22  6/13/22  6/14/22  6/15/22  6/16/22  \n",
       "0   180864   180864   181120   181178   181236   181465  \n",
       "1   276690   276731   276731   276821   276821   276821  \n",
       "2   265925   265927   265937   265943   265952   265964  \n",
       "3    43224    43224    43224    43224    43449    43449  \n",
       "4    99761    99761    99761    99761    99761    99761  \n",
       "\n",
       "[5 rows x 881 columns]"
      ]
     },
     "execution_count": 6,
     "metadata": {},
     "output_type": "execute_result"
    }
   ],
   "source": [
    "# Download Canada's COVID-19 data\n",
    "df_covid = pd.read_csv('https://raw.githubusercontent.com/CSSEGISandData/COVID-19/master/csse_covid_19_data/csse_covid_19_time_series/time_series_covid19_confirmed_global.csv')\n",
    "df_covid.head()"
   ]
  },
  {
   "cell_type": "code",
   "execution_count": 7,
   "metadata": {},
   "outputs": [
    {
     "data": {
      "text/html": [
       "<div>\n",
       "<style scoped>\n",
       "    .dataframe tbody tr th:only-of-type {\n",
       "        vertical-align: middle;\n",
       "    }\n",
       "\n",
       "    .dataframe tbody tr th {\n",
       "        vertical-align: top;\n",
       "    }\n",
       "\n",
       "    .dataframe thead th {\n",
       "        text-align: right;\n",
       "    }\n",
       "</style>\n",
       "<table border=\"1\" class=\"dataframe\">\n",
       "  <thead>\n",
       "    <tr style=\"text-align: right;\">\n",
       "      <th></th>\n",
       "      <th>X</th>\n",
       "      <th>Y</th>\n",
       "      <th>Index_</th>\n",
       "      <th>Event_Unique_Id</th>\n",
       "      <th>Occurrence_year</th>\n",
       "      <th>Division</th>\n",
       "      <th>Homicide_Type</th>\n",
       "      <th>Occurrence_Date</th>\n",
       "      <th>Hood_ID</th>\n",
       "      <th>Neighbourhood</th>\n",
       "      <th>Long</th>\n",
       "      <th>Lat</th>\n",
       "      <th>ObjectId</th>\n",
       "    </tr>\n",
       "  </thead>\n",
       "  <tbody>\n",
       "    <tr>\n",
       "      <th>0</th>\n",
       "      <td>-8.837968e+06</td>\n",
       "      <td>5.416828e+06</td>\n",
       "      <td>1</td>\n",
       "      <td>111878</td>\n",
       "      <td>2004</td>\n",
       "      <td>D53</td>\n",
       "      <td>Other</td>\n",
       "      <td>2004/01/03 05:00:00+00</td>\n",
       "      <td>97</td>\n",
       "      <td>Yonge-St.Clair (97)</td>\n",
       "      <td>-79.392814</td>\n",
       "      <td>43.685026</td>\n",
       "      <td>1</td>\n",
       "    </tr>\n",
       "    <tr>\n",
       "      <th>1</th>\n",
       "      <td>-8.820272e+06</td>\n",
       "      <td>5.431729e+06</td>\n",
       "      <td>2</td>\n",
       "      <td>125755</td>\n",
       "      <td>2004</td>\n",
       "      <td>D42</td>\n",
       "      <td>Shooting</td>\n",
       "      <td>2004/01/08 05:00:00+00</td>\n",
       "      <td>137</td>\n",
       "      <td>Woburn (137)</td>\n",
       "      <td>-79.233849</td>\n",
       "      <td>43.781745</td>\n",
       "      <td>2</td>\n",
       "    </tr>\n",
       "    <tr>\n",
       "      <th>2</th>\n",
       "      <td>-8.817267e+06</td>\n",
       "      <td>5.436218e+06</td>\n",
       "      <td>3</td>\n",
       "      <td>136086</td>\n",
       "      <td>2004</td>\n",
       "      <td>D42</td>\n",
       "      <td>Shooting</td>\n",
       "      <td>2004/01/08 05:00:00+00</td>\n",
       "      <td>132</td>\n",
       "      <td>Malvern (132)</td>\n",
       "      <td>-79.206855</td>\n",
       "      <td>43.810854</td>\n",
       "      <td>3</td>\n",
       "    </tr>\n",
       "    <tr>\n",
       "      <th>3</th>\n",
       "      <td>-8.842593e+06</td>\n",
       "      <td>5.414588e+06</td>\n",
       "      <td>4</td>\n",
       "      <td>148623</td>\n",
       "      <td>2004</td>\n",
       "      <td>D13</td>\n",
       "      <td>Shooting</td>\n",
       "      <td>2004/01/25 05:00:00+00</td>\n",
       "      <td>93</td>\n",
       "      <td>Dovercourt-Wallace Emerson-Junction (93)</td>\n",
       "      <td>-79.434361</td>\n",
       "      <td>43.670472</td>\n",
       "      <td>4</td>\n",
       "    </tr>\n",
       "    <tr>\n",
       "      <th>4</th>\n",
       "      <td>-8.816929e+06</td>\n",
       "      <td>5.438175e+06</td>\n",
       "      <td>5</td>\n",
       "      <td>148619</td>\n",
       "      <td>2004</td>\n",
       "      <td>D42</td>\n",
       "      <td>Shooting</td>\n",
       "      <td>2004/01/25 05:00:00+00</td>\n",
       "      <td>131</td>\n",
       "      <td>Rouge (131)</td>\n",
       "      <td>-79.203822</td>\n",
       "      <td>43.823539</td>\n",
       "      <td>5</td>\n",
       "    </tr>\n",
       "  </tbody>\n",
       "</table>\n",
       "</div>"
      ],
      "text/plain": [
       "              X             Y  Index_ Event_Unique_Id  Occurrence_year  \\\n",
       "0 -8.837968e+06  5.416828e+06       1          111878             2004   \n",
       "1 -8.820272e+06  5.431729e+06       2          125755             2004   \n",
       "2 -8.817267e+06  5.436218e+06       3          136086             2004   \n",
       "3 -8.842593e+06  5.414588e+06       4          148623             2004   \n",
       "4 -8.816929e+06  5.438175e+06       5          148619             2004   \n",
       "\n",
       "  Division Homicide_Type         Occurrence_Date  Hood_ID  \\\n",
       "0      D53         Other  2004/01/03 05:00:00+00       97   \n",
       "1      D42      Shooting  2004/01/08 05:00:00+00      137   \n",
       "2      D42      Shooting  2004/01/08 05:00:00+00      132   \n",
       "3      D13      Shooting  2004/01/25 05:00:00+00       93   \n",
       "4      D42      Shooting  2004/01/25 05:00:00+00      131   \n",
       "\n",
       "                              Neighbourhood       Long        Lat  ObjectId  \n",
       "0                       Yonge-St.Clair (97) -79.392814  43.685026         1  \n",
       "1                              Woburn (137) -79.233849  43.781745         2  \n",
       "2                             Malvern (132) -79.206855  43.810854         3  \n",
       "3  Dovercourt-Wallace Emerson-Junction (93) -79.434361  43.670472         4  \n",
       "4                               Rouge (131) -79.203822  43.823539         5  "
      ]
     },
     "execution_count": 7,
     "metadata": {},
     "output_type": "execute_result"
    }
   ],
   "source": [
    "df = pd.read_csv('Toronto_Homocide.csv')\n",
    "df.head()"
   ]
  },
  {
   "cell_type": "code",
   "execution_count": 8,
   "metadata": {},
   "outputs": [
    {
     "data": {
      "text/html": [
       "<div>\n",
       "<style scoped>\n",
       "    .dataframe tbody tr th:only-of-type {\n",
       "        vertical-align: middle;\n",
       "    }\n",
       "\n",
       "    .dataframe tbody tr th {\n",
       "        vertical-align: top;\n",
       "    }\n",
       "\n",
       "    .dataframe thead th {\n",
       "        text-align: right;\n",
       "    }\n",
       "</style>\n",
       "<table border=\"1\" class=\"dataframe\">\n",
       "  <thead>\n",
       "    <tr style=\"text-align: right;\">\n",
       "      <th></th>\n",
       "      <th>Neighbourhood</th>\n",
       "      <th>X</th>\n",
       "      <th>Y</th>\n",
       "      <th>Index_</th>\n",
       "      <th>Event_Unique_Id</th>\n",
       "      <th>Occurrence_year</th>\n",
       "      <th>Division</th>\n",
       "      <th>Homicide_Type</th>\n",
       "      <th>Occurrence_Date</th>\n",
       "      <th>Hood_ID</th>\n",
       "      <th>Long</th>\n",
       "      <th>Lat</th>\n",
       "      <th>ObjectId</th>\n",
       "    </tr>\n",
       "  </thead>\n",
       "  <tbody>\n",
       "    <tr>\n",
       "      <th>0</th>\n",
       "      <td>Agincourt North (129)</td>\n",
       "      <td>5</td>\n",
       "      <td>5</td>\n",
       "      <td>5</td>\n",
       "      <td>5</td>\n",
       "      <td>5</td>\n",
       "      <td>5</td>\n",
       "      <td>5</td>\n",
       "      <td>5</td>\n",
       "      <td>5</td>\n",
       "      <td>5</td>\n",
       "      <td>5</td>\n",
       "      <td>5</td>\n",
       "    </tr>\n",
       "    <tr>\n",
       "      <th>1</th>\n",
       "      <td>Agincourt South-Malvern West (128)</td>\n",
       "      <td>7</td>\n",
       "      <td>7</td>\n",
       "      <td>7</td>\n",
       "      <td>7</td>\n",
       "      <td>7</td>\n",
       "      <td>7</td>\n",
       "      <td>7</td>\n",
       "      <td>7</td>\n",
       "      <td>7</td>\n",
       "      <td>7</td>\n",
       "      <td>7</td>\n",
       "      <td>7</td>\n",
       "    </tr>\n",
       "    <tr>\n",
       "      <th>2</th>\n",
       "      <td>Alderwood (20)</td>\n",
       "      <td>6</td>\n",
       "      <td>6</td>\n",
       "      <td>6</td>\n",
       "      <td>6</td>\n",
       "      <td>6</td>\n",
       "      <td>6</td>\n",
       "      <td>6</td>\n",
       "      <td>6</td>\n",
       "      <td>6</td>\n",
       "      <td>6</td>\n",
       "      <td>6</td>\n",
       "      <td>6</td>\n",
       "    </tr>\n",
       "    <tr>\n",
       "      <th>3</th>\n",
       "      <td>Annex (95)</td>\n",
       "      <td>7</td>\n",
       "      <td>7</td>\n",
       "      <td>7</td>\n",
       "      <td>7</td>\n",
       "      <td>7</td>\n",
       "      <td>7</td>\n",
       "      <td>7</td>\n",
       "      <td>7</td>\n",
       "      <td>7</td>\n",
       "      <td>7</td>\n",
       "      <td>7</td>\n",
       "      <td>7</td>\n",
       "    </tr>\n",
       "    <tr>\n",
       "      <th>4</th>\n",
       "      <td>Banbury-Don Mills (42)</td>\n",
       "      <td>7</td>\n",
       "      <td>7</td>\n",
       "      <td>7</td>\n",
       "      <td>7</td>\n",
       "      <td>7</td>\n",
       "      <td>7</td>\n",
       "      <td>7</td>\n",
       "      <td>7</td>\n",
       "      <td>7</td>\n",
       "      <td>7</td>\n",
       "      <td>7</td>\n",
       "      <td>7</td>\n",
       "    </tr>\n",
       "  </tbody>\n",
       "</table>\n",
       "</div>"
      ],
      "text/plain": [
       "                        Neighbourhood  X  Y  Index_  Event_Unique_Id  \\\n",
       "0               Agincourt North (129)  5  5       5                5   \n",
       "1  Agincourt South-Malvern West (128)  7  7       7                7   \n",
       "2                      Alderwood (20)  6  6       6                6   \n",
       "3                          Annex (95)  7  7       7                7   \n",
       "4              Banbury-Don Mills (42)  7  7       7                7   \n",
       "\n",
       "   Occurrence_year  Division  Homicide_Type  Occurrence_Date  Hood_ID  Long  \\\n",
       "0                5         5              5                5        5     5   \n",
       "1                7         7              7                7        7     7   \n",
       "2                6         6              6                6        6     6   \n",
       "3                7         7              7                7        7     7   \n",
       "4                7         7              7                7        7     7   \n",
       "\n",
       "   Lat  ObjectId  \n",
       "0    5         5  \n",
       "1    7         7  \n",
       "2    6         6  \n",
       "3    7         7  \n",
       "4    7         7  "
      ]
     },
     "execution_count": 8,
     "metadata": {},
     "output_type": "execute_result"
    }
   ],
   "source": [
    "df_grouped = df.groupby('Neighbourhood').count().reset_index()\n",
    "df_grouped.head()"
   ]
  },
  {
   "cell_type": "code",
   "execution_count": 9,
   "metadata": {},
   "outputs": [
    {
     "data": {
      "application/vnd.plotly.v1+json": {
       "config": {
        "plotlyServerURL": "https://plot.ly"
       },
       "data": [
        {
         "alignmentgroup": "True",
         "hovertemplate": "Neighbourhood=%{x}<br>X=%{marker.color}<extra></extra>",
         "legendgroup": "",
         "marker": {
          "color": [
           5,
           7,
           6,
           7,
           7,
           25,
           3,
           2,
           2,
           4,
           11,
           6,
           24,
           5,
           6,
           4,
           6,
           17,
           2,
           1,
           3,
           20,
           20,
           8,
           7,
           3,
           3,
           1,
           7,
           14,
           19,
           29,
           5,
           9,
           1,
           13,
           8,
           9,
           6,
           8,
           10,
           2,
           35,
           11,
           3,
           3,
           2,
           6,
           6,
           5,
           9,
           13,
           10,
           3,
           12,
           7,
           13,
           10,
           21,
           14,
           1,
           14,
           6,
           14,
           2,
           1,
           8,
           1,
           33,
           2,
           2,
           5,
           7,
           13,
           32,
           12,
           28,
           2,
           6,
           7,
           3,
           2,
           16,
           6,
           4,
           15,
           7,
           11,
           5,
           3,
           9,
           8,
           2,
           3,
           2,
           20,
           4,
           20,
           4,
           1,
           24,
           8,
           15,
           13,
           28,
           4,
           4,
           4,
           9,
           7,
           3,
           4,
           15,
           7,
           3,
           9,
           25,
           15,
           28,
           1,
           26,
           8,
           15,
           6,
           4,
           9,
           27,
           6,
           3,
           6,
           3,
           2,
           17,
           15
          ],
          "coloraxis": "coloraxis",
          "pattern": {
           "shape": ""
          }
         },
         "name": "",
         "offsetgroup": "",
         "orientation": "v",
         "showlegend": false,
         "textposition": "auto",
         "type": "bar",
         "x": [
          "Agincourt North (129)",
          "Agincourt South-Malvern West (128)",
          "Alderwood (20)",
          "Annex (95)",
          "Banbury-Don Mills (42)",
          "Bay Street Corridor (76)",
          "Bayview Village (52)",
          "Bayview Woods-Steeles (49)",
          "Bedford Park-Nortown (39)",
          "Beechborough-Greenbrook (112)",
          "Bendale (127)",
          "Birchcliffe-Cliffside (122)",
          "Black Creek (24)",
          "Blake-Jones (69)",
          "Briar Hill-Belgravia (108)",
          "Broadview North (57)",
          "Brookhaven-Amesbury (30)",
          "Cabbagetown-South St.James Town (71)",
          "Caledonia-Fairbank (109)",
          "Casa Loma (96)",
          "Centennial Scarborough (133)",
          "Church-Yonge Corridor (75)",
          "Clairlea-Birchmount (120)",
          "Clanton Park (33)",
          "Cliffcrest (123)",
          "Corso Italia-Davenport (92)",
          "Danforth (66)",
          "Danforth East York (59)",
          "Don Valley Village (47)",
          "Dorset Park (126)",
          "Dovercourt-Wallace Emerson-Junction (93)",
          "Downsview-Roding-CFB (26)",
          "Dufferin Grove (83)",
          "East End-Danforth (62)",
          "Edenbridge-Humber Valley (9)",
          "Eglinton East (138)",
          "Elms-Old Rexdale (5)",
          "Englemount-Lawrence (32)",
          "Eringate-Centennial-West Deane (11)",
          "Etobicoke West Mall (13)",
          "Flemingdon Park (44)",
          "Forest Hill North (102)",
          "Glenfield-Jane Heights (25)",
          "Greenwood-Coxwell (65)",
          "Guildwood (140)",
          "Henry Farm (53)",
          "High Park North (88)",
          "High Park-Swansea (87)",
          "Highland Creek (134)",
          "Hillcrest Village (48)",
          "Humber Heights-Westmount (8)",
          "Humber Summit (21)",
          "Humbermede (22)",
          "Humewood-Cedarvale (106)",
          "Islington-City Centre West (14)",
          "Junction Area (90)",
          "Keelesdale-Eglinton West (110)",
          "Kennedy Park (124)",
          "Kensington-Chinatown (78)",
          "Kingsview Village-The Westway (6)",
          "Kingsway South (15)",
          "L'Amoreaux (117)",
          "Lambton Baby Point (114)",
          "Lansing-Westgate (38)",
          "Lawrence Park North (105)",
          "Leaside-Bennington (56)",
          "Little Portugal (84)",
          "Long Branch (19)",
          "Malvern (132)",
          "Maple Leaf (29)",
          "Markland Wood (12)",
          "Milliken (130)",
          "Mimico (includes Humber Bay Shores) (17)",
          "Morningside (135)",
          "Moss Park (73)",
          "Mount Dennis (115)",
          "Mount Olive-Silverstone-Jamestown (2)",
          "Mount Pleasant East (99)",
          "Mount Pleasant West (104)",
          "New Toronto (18)",
          "Newtonbrook East (50)",
          "Newtonbrook West (36)",
          "Niagara (82)",
          "North Riverdale (68)",
          "North St.James Town (74)",
          "O'Connor-Parkview (54)",
          "Oakridge (121)",
          "Oakwood Village (107)",
          "Old East York (58)",
          "Palmerston-Little Italy (80)",
          "Parkwoods-Donalda (45)",
          "Pelmo Park-Humberlea (23)",
          "Playter Estates-Danforth (67)",
          "Pleasant View (46)",
          "Princess-Rosethorn (10)",
          "Regent Park (72)",
          "Rexdale-Kipling (4)",
          "Rockcliffe-Smythe (111)",
          "Roncesvalles (86)",
          "Rosedale-Moore Park (98)",
          "Rouge (131)",
          "Rustic (28)",
          "Scarborough Village (139)",
          "South Parkdale (85)",
          "South Riverdale (70)",
          "St.Andrew-Windfields (40)",
          "Steeles (116)",
          "Stonegate-Queensway (16)",
          "Tam O'Shanter-Sullivan (118)",
          "Taylor-Massey (61)",
          "The Beaches (63)",
          "Thistletown-Beaumond Heights (3)",
          "Thorncliffe Park (55)",
          "Trinity-Bellwoods (81)",
          "University (79)",
          "Victoria Village (43)",
          "Waterfront Communities-The Island (77)",
          "West Hill (136)",
          "West Humber-Clairville (1)",
          "Westminster-Branson (35)",
          "Weston (113)",
          "Weston-Pellam Park (91)",
          "Wexford/Maryvale (119)",
          "Willowdale East (51)",
          "Willowdale West (37)",
          "Willowridge-Martingrove-Richview (7)",
          "Woburn (137)",
          "Woodbine Corridor (64)",
          "Woodbine-Lumsden (60)",
          "Wychwood (94)",
          "Yonge-Eglinton (100)",
          "Yonge-St.Clair (97)",
          "York University Heights (27)",
          "Yorkdale-Glen Park (31)"
         ],
         "xaxis": "x",
         "y": [
          5,
          7,
          6,
          7,
          7,
          25,
          3,
          2,
          2,
          4,
          11,
          6,
          24,
          5,
          6,
          4,
          6,
          17,
          2,
          1,
          3,
          20,
          20,
          8,
          7,
          3,
          3,
          1,
          7,
          14,
          19,
          29,
          5,
          9,
          1,
          13,
          8,
          9,
          6,
          8,
          10,
          2,
          35,
          11,
          3,
          3,
          2,
          6,
          6,
          5,
          9,
          13,
          10,
          3,
          12,
          7,
          13,
          10,
          21,
          14,
          1,
          14,
          6,
          14,
          2,
          1,
          8,
          1,
          33,
          2,
          2,
          5,
          7,
          13,
          32,
          12,
          28,
          2,
          6,
          7,
          3,
          2,
          16,
          6,
          4,
          15,
          7,
          11,
          5,
          3,
          9,
          8,
          2,
          3,
          2,
          20,
          4,
          20,
          4,
          1,
          24,
          8,
          15,
          13,
          28,
          4,
          4,
          4,
          9,
          7,
          3,
          4,
          15,
          7,
          3,
          9,
          25,
          15,
          28,
          1,
          26,
          8,
          15,
          6,
          4,
          9,
          27,
          6,
          3,
          6,
          3,
          2,
          17,
          15
         ],
         "yaxis": "y"
        }
       ],
       "layout": {
        "barmode": "relative",
        "coloraxis": {
         "colorbar": {
          "title": {
           "text": "X"
          }
         },
         "colorscale": [
          [
           0,
           "#0d0887"
          ],
          [
           0.1111111111111111,
           "#46039f"
          ],
          [
           0.2222222222222222,
           "#7201a8"
          ],
          [
           0.3333333333333333,
           "#9c179e"
          ],
          [
           0.4444444444444444,
           "#bd3786"
          ],
          [
           0.5555555555555556,
           "#d8576b"
          ],
          [
           0.6666666666666666,
           "#ed7953"
          ],
          [
           0.7777777777777778,
           "#fb9f3a"
          ],
          [
           0.8888888888888888,
           "#fdca26"
          ],
          [
           1,
           "#f0f921"
          ]
         ]
        },
        "legend": {
         "tracegroupgap": 0
        },
        "template": {
         "data": {
          "bar": [
           {
            "error_x": {
             "color": "#2a3f5f"
            },
            "error_y": {
             "color": "#2a3f5f"
            },
            "marker": {
             "line": {
              "color": "#E5ECF6",
              "width": 0.5
             },
             "pattern": {
              "fillmode": "overlay",
              "size": 10,
              "solidity": 0.2
             }
            },
            "type": "bar"
           }
          ],
          "barpolar": [
           {
            "marker": {
             "line": {
              "color": "#E5ECF6",
              "width": 0.5
             },
             "pattern": {
              "fillmode": "overlay",
              "size": 10,
              "solidity": 0.2
             }
            },
            "type": "barpolar"
           }
          ],
          "carpet": [
           {
            "aaxis": {
             "endlinecolor": "#2a3f5f",
             "gridcolor": "white",
             "linecolor": "white",
             "minorgridcolor": "white",
             "startlinecolor": "#2a3f5f"
            },
            "baxis": {
             "endlinecolor": "#2a3f5f",
             "gridcolor": "white",
             "linecolor": "white",
             "minorgridcolor": "white",
             "startlinecolor": "#2a3f5f"
            },
            "type": "carpet"
           }
          ],
          "choropleth": [
           {
            "colorbar": {
             "outlinewidth": 0,
             "ticks": ""
            },
            "type": "choropleth"
           }
          ],
          "contour": [
           {
            "colorbar": {
             "outlinewidth": 0,
             "ticks": ""
            },
            "colorscale": [
             [
              0,
              "#0d0887"
             ],
             [
              0.1111111111111111,
              "#46039f"
             ],
             [
              0.2222222222222222,
              "#7201a8"
             ],
             [
              0.3333333333333333,
              "#9c179e"
             ],
             [
              0.4444444444444444,
              "#bd3786"
             ],
             [
              0.5555555555555556,
              "#d8576b"
             ],
             [
              0.6666666666666666,
              "#ed7953"
             ],
             [
              0.7777777777777778,
              "#fb9f3a"
             ],
             [
              0.8888888888888888,
              "#fdca26"
             ],
             [
              1,
              "#f0f921"
             ]
            ],
            "type": "contour"
           }
          ],
          "contourcarpet": [
           {
            "colorbar": {
             "outlinewidth": 0,
             "ticks": ""
            },
            "type": "contourcarpet"
           }
          ],
          "heatmap": [
           {
            "colorbar": {
             "outlinewidth": 0,
             "ticks": ""
            },
            "colorscale": [
             [
              0,
              "#0d0887"
             ],
             [
              0.1111111111111111,
              "#46039f"
             ],
             [
              0.2222222222222222,
              "#7201a8"
             ],
             [
              0.3333333333333333,
              "#9c179e"
             ],
             [
              0.4444444444444444,
              "#bd3786"
             ],
             [
              0.5555555555555556,
              "#d8576b"
             ],
             [
              0.6666666666666666,
              "#ed7953"
             ],
             [
              0.7777777777777778,
              "#fb9f3a"
             ],
             [
              0.8888888888888888,
              "#fdca26"
             ],
             [
              1,
              "#f0f921"
             ]
            ],
            "type": "heatmap"
           }
          ],
          "heatmapgl": [
           {
            "colorbar": {
             "outlinewidth": 0,
             "ticks": ""
            },
            "colorscale": [
             [
              0,
              "#0d0887"
             ],
             [
              0.1111111111111111,
              "#46039f"
             ],
             [
              0.2222222222222222,
              "#7201a8"
             ],
             [
              0.3333333333333333,
              "#9c179e"
             ],
             [
              0.4444444444444444,
              "#bd3786"
             ],
             [
              0.5555555555555556,
              "#d8576b"
             ],
             [
              0.6666666666666666,
              "#ed7953"
             ],
             [
              0.7777777777777778,
              "#fb9f3a"
             ],
             [
              0.8888888888888888,
              "#fdca26"
             ],
             [
              1,
              "#f0f921"
             ]
            ],
            "type": "heatmapgl"
           }
          ],
          "histogram": [
           {
            "marker": {
             "pattern": {
              "fillmode": "overlay",
              "size": 10,
              "solidity": 0.2
             }
            },
            "type": "histogram"
           }
          ],
          "histogram2d": [
           {
            "colorbar": {
             "outlinewidth": 0,
             "ticks": ""
            },
            "colorscale": [
             [
              0,
              "#0d0887"
             ],
             [
              0.1111111111111111,
              "#46039f"
             ],
             [
              0.2222222222222222,
              "#7201a8"
             ],
             [
              0.3333333333333333,
              "#9c179e"
             ],
             [
              0.4444444444444444,
              "#bd3786"
             ],
             [
              0.5555555555555556,
              "#d8576b"
             ],
             [
              0.6666666666666666,
              "#ed7953"
             ],
             [
              0.7777777777777778,
              "#fb9f3a"
             ],
             [
              0.8888888888888888,
              "#fdca26"
             ],
             [
              1,
              "#f0f921"
             ]
            ],
            "type": "histogram2d"
           }
          ],
          "histogram2dcontour": [
           {
            "colorbar": {
             "outlinewidth": 0,
             "ticks": ""
            },
            "colorscale": [
             [
              0,
              "#0d0887"
             ],
             [
              0.1111111111111111,
              "#46039f"
             ],
             [
              0.2222222222222222,
              "#7201a8"
             ],
             [
              0.3333333333333333,
              "#9c179e"
             ],
             [
              0.4444444444444444,
              "#bd3786"
             ],
             [
              0.5555555555555556,
              "#d8576b"
             ],
             [
              0.6666666666666666,
              "#ed7953"
             ],
             [
              0.7777777777777778,
              "#fb9f3a"
             ],
             [
              0.8888888888888888,
              "#fdca26"
             ],
             [
              1,
              "#f0f921"
             ]
            ],
            "type": "histogram2dcontour"
           }
          ],
          "mesh3d": [
           {
            "colorbar": {
             "outlinewidth": 0,
             "ticks": ""
            },
            "type": "mesh3d"
           }
          ],
          "parcoords": [
           {
            "line": {
             "colorbar": {
              "outlinewidth": 0,
              "ticks": ""
             }
            },
            "type": "parcoords"
           }
          ],
          "pie": [
           {
            "automargin": true,
            "type": "pie"
           }
          ],
          "scatter": [
           {
            "fillpattern": {
             "fillmode": "overlay",
             "size": 10,
             "solidity": 0.2
            },
            "type": "scatter"
           }
          ],
          "scatter3d": [
           {
            "line": {
             "colorbar": {
              "outlinewidth": 0,
              "ticks": ""
             }
            },
            "marker": {
             "colorbar": {
              "outlinewidth": 0,
              "ticks": ""
             }
            },
            "type": "scatter3d"
           }
          ],
          "scattercarpet": [
           {
            "marker": {
             "colorbar": {
              "outlinewidth": 0,
              "ticks": ""
             }
            },
            "type": "scattercarpet"
           }
          ],
          "scattergeo": [
           {
            "marker": {
             "colorbar": {
              "outlinewidth": 0,
              "ticks": ""
             }
            },
            "type": "scattergeo"
           }
          ],
          "scattergl": [
           {
            "marker": {
             "colorbar": {
              "outlinewidth": 0,
              "ticks": ""
             }
            },
            "type": "scattergl"
           }
          ],
          "scattermapbox": [
           {
            "marker": {
             "colorbar": {
              "outlinewidth": 0,
              "ticks": ""
             }
            },
            "type": "scattermapbox"
           }
          ],
          "scatterpolar": [
           {
            "marker": {
             "colorbar": {
              "outlinewidth": 0,
              "ticks": ""
             }
            },
            "type": "scatterpolar"
           }
          ],
          "scatterpolargl": [
           {
            "marker": {
             "colorbar": {
              "outlinewidth": 0,
              "ticks": ""
             }
            },
            "type": "scatterpolargl"
           }
          ],
          "scatterternary": [
           {
            "marker": {
             "colorbar": {
              "outlinewidth": 0,
              "ticks": ""
             }
            },
            "type": "scatterternary"
           }
          ],
          "surface": [
           {
            "colorbar": {
             "outlinewidth": 0,
             "ticks": ""
            },
            "colorscale": [
             [
              0,
              "#0d0887"
             ],
             [
              0.1111111111111111,
              "#46039f"
             ],
             [
              0.2222222222222222,
              "#7201a8"
             ],
             [
              0.3333333333333333,
              "#9c179e"
             ],
             [
              0.4444444444444444,
              "#bd3786"
             ],
             [
              0.5555555555555556,
              "#d8576b"
             ],
             [
              0.6666666666666666,
              "#ed7953"
             ],
             [
              0.7777777777777778,
              "#fb9f3a"
             ],
             [
              0.8888888888888888,
              "#fdca26"
             ],
             [
              1,
              "#f0f921"
             ]
            ],
            "type": "surface"
           }
          ],
          "table": [
           {
            "cells": {
             "fill": {
              "color": "#EBF0F8"
             },
             "line": {
              "color": "white"
             }
            },
            "header": {
             "fill": {
              "color": "#C8D4E3"
             },
             "line": {
              "color": "white"
             }
            },
            "type": "table"
           }
          ]
         },
         "layout": {
          "annotationdefaults": {
           "arrowcolor": "#2a3f5f",
           "arrowhead": 0,
           "arrowwidth": 1
          },
          "autotypenumbers": "strict",
          "coloraxis": {
           "colorbar": {
            "outlinewidth": 0,
            "ticks": ""
           }
          },
          "colorscale": {
           "diverging": [
            [
             0,
             "#8e0152"
            ],
            [
             0.1,
             "#c51b7d"
            ],
            [
             0.2,
             "#de77ae"
            ],
            [
             0.3,
             "#f1b6da"
            ],
            [
             0.4,
             "#fde0ef"
            ],
            [
             0.5,
             "#f7f7f7"
            ],
            [
             0.6,
             "#e6f5d0"
            ],
            [
             0.7,
             "#b8e186"
            ],
            [
             0.8,
             "#7fbc41"
            ],
            [
             0.9,
             "#4d9221"
            ],
            [
             1,
             "#276419"
            ]
           ],
           "sequential": [
            [
             0,
             "#0d0887"
            ],
            [
             0.1111111111111111,
             "#46039f"
            ],
            [
             0.2222222222222222,
             "#7201a8"
            ],
            [
             0.3333333333333333,
             "#9c179e"
            ],
            [
             0.4444444444444444,
             "#bd3786"
            ],
            [
             0.5555555555555556,
             "#d8576b"
            ],
            [
             0.6666666666666666,
             "#ed7953"
            ],
            [
             0.7777777777777778,
             "#fb9f3a"
            ],
            [
             0.8888888888888888,
             "#fdca26"
            ],
            [
             1,
             "#f0f921"
            ]
           ],
           "sequentialminus": [
            [
             0,
             "#0d0887"
            ],
            [
             0.1111111111111111,
             "#46039f"
            ],
            [
             0.2222222222222222,
             "#7201a8"
            ],
            [
             0.3333333333333333,
             "#9c179e"
            ],
            [
             0.4444444444444444,
             "#bd3786"
            ],
            [
             0.5555555555555556,
             "#d8576b"
            ],
            [
             0.6666666666666666,
             "#ed7953"
            ],
            [
             0.7777777777777778,
             "#fb9f3a"
            ],
            [
             0.8888888888888888,
             "#fdca26"
            ],
            [
             1,
             "#f0f921"
            ]
           ]
          },
          "colorway": [
           "#636efa",
           "#EF553B",
           "#00cc96",
           "#ab63fa",
           "#FFA15A",
           "#19d3f3",
           "#FF6692",
           "#B6E880",
           "#FF97FF",
           "#FECB52"
          ],
          "font": {
           "color": "#2a3f5f"
          },
          "geo": {
           "bgcolor": "white",
           "lakecolor": "white",
           "landcolor": "#E5ECF6",
           "showlakes": true,
           "showland": true,
           "subunitcolor": "white"
          },
          "hoverlabel": {
           "align": "left"
          },
          "hovermode": "closest",
          "mapbox": {
           "style": "light"
          },
          "paper_bgcolor": "white",
          "plot_bgcolor": "#E5ECF6",
          "polar": {
           "angularaxis": {
            "gridcolor": "white",
            "linecolor": "white",
            "ticks": ""
           },
           "bgcolor": "#E5ECF6",
           "radialaxis": {
            "gridcolor": "white",
            "linecolor": "white",
            "ticks": ""
           }
          },
          "scene": {
           "xaxis": {
            "backgroundcolor": "#E5ECF6",
            "gridcolor": "white",
            "gridwidth": 2,
            "linecolor": "white",
            "showbackground": true,
            "ticks": "",
            "zerolinecolor": "white"
           },
           "yaxis": {
            "backgroundcolor": "#E5ECF6",
            "gridcolor": "white",
            "gridwidth": 2,
            "linecolor": "white",
            "showbackground": true,
            "ticks": "",
            "zerolinecolor": "white"
           },
           "zaxis": {
            "backgroundcolor": "#E5ECF6",
            "gridcolor": "white",
            "gridwidth": 2,
            "linecolor": "white",
            "showbackground": true,
            "ticks": "",
            "zerolinecolor": "white"
           }
          },
          "shapedefaults": {
           "line": {
            "color": "#2a3f5f"
           }
          },
          "ternary": {
           "aaxis": {
            "gridcolor": "white",
            "linecolor": "white",
            "ticks": ""
           },
           "baxis": {
            "gridcolor": "white",
            "linecolor": "white",
            "ticks": ""
           },
           "bgcolor": "#E5ECF6",
           "caxis": {
            "gridcolor": "white",
            "linecolor": "white",
            "ticks": ""
           }
          },
          "title": {
           "x": 0.05
          },
          "xaxis": {
           "automargin": true,
           "gridcolor": "white",
           "linecolor": "white",
           "ticks": "",
           "title": {
            "standoff": 15
           },
           "zerolinecolor": "white",
           "zerolinewidth": 2
          },
          "yaxis": {
           "automargin": true,
           "gridcolor": "white",
           "linecolor": "white",
           "ticks": "",
           "title": {
            "standoff": 15
           },
           "zerolinecolor": "white",
           "zerolinewidth": 2
          }
         }
        },
        "title": {
         "text": "Homocide in Toronto Neighbourhoods"
        },
        "xaxis": {
         "anchor": "y",
         "domain": [
          0,
          1
         ],
         "title": {
          "text": "Neighbourhoods"
         }
        },
        "yaxis": {
         "anchor": "x",
         "domain": [
          0,
          1
         ],
         "title": {
          "text": "Number of Homocide"
         }
        }
       }
      }
     },
     "metadata": {},
     "output_type": "display_data"
    }
   ],
   "source": [
    "fig = px.bar(df_grouped, x='Neighbourhood', y='X', title='Homocide in Toronto Neighbourhoods', color='X')\n",
    "fig.update_layout(xaxis_title=\"Neighbourhoods\", yaxis_title=\"Number of Homocide\",)\n",
    "fig.show()"
   ]
  },
  {
   "cell_type": "code",
   "execution_count": 17,
   "metadata": {},
   "outputs": [],
   "source": []
  }
 ],
 "metadata": {
  "interpreter": {
   "hash": "5513a0d412d3fddf7073920ee4875bd6fa9c1730cc05d5be581e57024e1da656"
  },
  "kernelspec": {
   "display_name": "Python 3.10.4 ('data_science')",
   "language": "python",
   "name": "python3"
  },
  "language_info": {
   "codemirror_mode": {
    "name": "ipython",
    "version": 3
   },
   "file_extension": ".py",
   "mimetype": "text/x-python",
   "name": "python",
   "nbconvert_exporter": "python",
   "pygments_lexer": "ipython3",
   "version": "3.10.4"
  },
  "orig_nbformat": 4
 },
 "nbformat": 4,
 "nbformat_minor": 2
}
